{
 "cells": [
  {
   "cell_type": "code",
   "execution_count": 2,
   "id": "forbidden-center",
   "metadata": {},
   "outputs": [],
   "source": [
    "# Baixa e extrai os arquivos do Portal da Transparência\n",
    "import requests, zipfile, io, pathlib\n",
    "def download_set(name):\n",
    "    for month in range(1, 13):\n",
    "        path = f'./dataset/{name}/{month}'\n",
    "        pathlib.Path(path).mkdir(parents=True, exist_ok=True)\n",
    "        req = requests.get(f'http://transparencia.gov.br/download-de-dados/{name}/2020{month:02}', stream=True)\n",
    "        file = zipfile.ZipFile(io.BytesIO(req.content))\n",
    "        file.extractall(path)\n",
    "download_set('compras')\n",
    "download_set('licitacoes')"
   ]
  }
 ],
 "metadata": {
  "kernelspec": {
   "display_name": "Python 3",
   "language": "python",
   "name": "python3"
  },
  "language_info": {
   "codemirror_mode": {
    "name": "ipython",
    "version": 3
   },
   "file_extension": ".py",
   "mimetype": "text/x-python",
   "name": "python",
   "nbconvert_exporter": "python",
   "pygments_lexer": "ipython3",
   "version": "3.6.13"
  }
 },
 "nbformat": 4,
 "nbformat_minor": 5
}
