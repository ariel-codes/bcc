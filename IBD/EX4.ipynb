{
 "cells": [
  {
   "cell_type": "markdown",
   "metadata": {
    "id": "Ax2dKxsbJ09g"
   },
   "source": [
    "# Exercício avaliativo"
   ]
  },
  {
   "cell_type": "code",
   "execution_count": 1,
   "metadata": {
    "id": "9Cnb0VajJFCM"
   },
   "outputs": [],
   "source": [
    "import io\n",
    "import sqlite3\n",
    "import pandas as pd"
   ]
  },
  {
   "cell_type": "markdown",
   "metadata": {
    "id": "GUFkmufdJWhH"
   },
   "source": [
    "Neste exercício, vamos trabalhar com dados de uma empresa fictícia de consultoria denominada IBD.\n",
    "\n",
    "**Considere o seguinte esquema relacional**:\n",
    "\n",
    "![schema_2.png](data:image/png;base64,iVBORw0KGgoAAAANSUhEUgAAAlMAAADKCAIAAAAO1VIdAAAAA3NCSVQICAjb4U/gAAAAGXRFWHRTb2Z0d2FyZQBnbm9tZS1zY3JlZW5zaG907wO/PgAAIABJREFUeJzsnS+Y2srX+E9+z/s8yVVJFalKriJfRapIFbwKqqBqqYKr4KrlKqhbx1YtV8FV8Cqogq+CKrgqVJEqqEpWkSqyKrOKn0iAAEn4s+wu7M5Htexk5syZOXMyfzKHmM1mgMFgMBjMq+H/PbcAGAwGg8E8KdjzYTAYDOZ1gT0fBoPBYF4X2PNhMBgM5nWBPR8Gg8FgXhfY82EwGAzmdYE9HwaDwWBeF//j+itBEE8sBwaDwWAwx8L/U3V3z7f1MQwGczoQBIENFoNZsHXyhlc7MRgMBvO6wJ4Pg8FgMK8L7PkwGAwG87o4oufTmxJBJfvoeDkeABrkeCbaNo6Vn9GOUlS8u61SJ1H3Y3AKFfGQASl5norW9WeRCYPBvCQO8nxIaebjAkMQBEEwQjRTHRgAAAjBPbLGq/G1QFDR5pOPUkb3qq5LxSizRdTdQej+3kDLUfg4dUdKnicIgk21Hcm0skCweeWJvM6RKjLIMIRwPV77jV38ZtfUgbTMcS8ZKDGXYv+9Kq+UhcFgMPuzv+dDg7z47tPfmlhsdHqd1nWS6eeTxbXxmpUy6VRSYDzy2IpeP2jqoXfL3yCel5g9RN2H49Ud6QYA/Pqauxqg5W8IEHoSx3fEiiAEyFj/zQBkgJUb0g2gEzV5OKeZZA+UQcjkuNt69aneDTAYzItl5obX77OZObzkALjLoen4capOzNlsUgsBxDqmx5N7Makckte0FQEIN6ZbRd0jy0YYINyabslw37qb8gUNXPqCAwjdqPaPowIHdFY+igL9Sz9iRXoXJHCFkdtv5mxm1zSQHa7neJAM5jAbWC8NM/MzWAzmNbLVIvac8yGlXL+FSPlKpBy/MjxLraZb26rR2sW4QBEEQVB8NNccIwAAvS5RfL7dzEdZgiAIRsw0NQQARlsi3v75A+Dbh98IghDKmk8mK8KN2wpwUZHZRVS9e52019nWskNKNSUyBEEQbDTf1hy/H1R3bygxX06QP4p5921JLwltvdVzEksQBMFK+a5uzGWmhFTdqRk3pR29IgdwmAwUHxfgtjvAe30YDOYh7On59MHgDoJJcesypmOrBg1y0sc6le+rk4nazVPNT9G8tcSH7m///pjXUk11Mmoljf/7lKxrAEyyq8qlIEC4NlLVySDH+2ayxFCUO+AldruoaJATP3weS+XecDTsVaP6P5+kTNcAADC6meifXyHV6Mm9a6Gf+/zjIXXfAhsvX4fu/5u/2ljA85HQ1tuVkWmrqnzDK39/EPhonb0aTEatDPr6R6quLTJxU9ojVGRvDpSB4sUAaH0Nr3diMJiHsNdU0RxeBhzrias4F6kc/562IkDGWotH1FIQ6LRsWmlCFXX+eCUEELHXuNZXOz0zWReOvrB/9BN12ogABEvq4odRgQMINyb2gilXmq+nWWty4db0sLp7YsoXNARv1NnMlLMBgHBFXVnt9JFwTW9mL0ECfdGxxVJvggsteihtetSK7LTa6YQrjB6gTLUSBIi0XJ97xXgZLAbzOtlqEfvN+SiKpQCQsccrN9K6Y7j/9vHN/Gjf759/AiwyYHl2nrdP1lsymacyEMB8tcxHVKT1x0BLUXbxCx+XSNAGOgJ9oAEtSfw8l8UU8pC67wIlXZVj5Pdise9Y8vST0GKpN4ZlgOF5avk/W0gvpT1SRVyqtvgXnWgsTrj0i8IDlElRFMDTnALCYDAvlj1XO1lRIGHcVfb8NGAxE7MxmhK1/al9M6EY56joI6r3AUpk/clVuAPrvhU2Vb4K3n3NVR3H9Y92xNNNaUetCEVRYOgrLgwh4956kVkkYgVxDs8AHK5MhBAAtX/nwWAwmCV7ej5GykXJ+/8WV05RANJ1z4GaYiUe7pS+tl9BFACgxaxup0woRmDgbjEIe4tK8RIPd4PlOQmkdQf3pBjnKYoVebgbK/oiubZItX/dd0XIV9P0z6vltM9Hwt1z9VTaMStC8XEB7rp1x0alodQHQEsS6/PYoTIgY2wAza6fg8FgMJh92Pd7PiZZrUbIH3+JUqbc7Ha77XoxJbKiz0dybLKYoH9+Tubqg7GmaUq/eZ0vbx7MXCuGZUlQqu2B0u+P0Y6ZsIJIgrZwF96issmrGPnzr2Su3lfGSr+aiX+55fLXUQaAjecj8KOYryq6rvWvk9Ln2wfUff4l9rY7ZajodTly//P73VJpnhLujqfSjlkRNlnOBn79E43mq+1+v9+u5qLxr3fh66sts/pDZABAmvIL+Og+LwAYDAazwQHbg6baKiRCARIAAOhgJFuRp7PZbNIIA5noWQcTHP+ezcxRIxvhrPRkIBjJNtSNNDOzE3OcXTBHlRgHAEDHGhOfTFaYNMIA4dpkq6izmTmspcN2boFQotRbnpmY9gpWOSQXKTRa2QAZWZ6w2LPuppymgb7obXzNJqcDjtM9s9lsNrqJkABBx+EaDwnXdDu8DDiO5ExbEecJEG+lHakilkS90oUzq8ZomcyU0wHgChvf8x0gg30cKHDpmtmrxt9gMZjXxlaLcA/rda7hvvS6+DbHtvRu8uDbY46K0U7yKVTWuhnfpb/T50QqMi7y/6nHh1pVxJO+Fc7VYDGYx2GrRbysWA1svBiBfrV/7EMoBzKuFpVos37ubu9kKjKuN2+5TF7Abg+DwTyIlzXns2I1RMdlvf/pzZaYvE/AmerwREFKnpeUa63/3A74BDlfg8VgHoOtFvHSPB8G8wrBBovBOHllq50YDAaDwWwDez4MBoPBvC6w58NgMBjM6wJ7PgwGg8G8Lv7nuQXAYDCY08YYD8YGUKwo4uuDXggvds6HBjme2Xpt2FYeMzorBoM5GkY7SlHx7jZTPciiKdTPv3//7nepOHjAiPIyBpPH1PMTsq/nQ0qeJxYwQrLYPShAttGNUwSf87+l8QEY3au6LhXtiy71djFuhzdnxeS13Xutqyib/vI/IDqrrSs21XYUoZUFgs0/Wr03Sn9wS+2WP8EI0Uy1f8QS0CDHEnxx2w2vWxtxp1Z+uZyLwQIgpZmfWykjRDPVfZ0MQvf3hsNWPTJ0WPTOfYMSi/1hKQw/vryP7uL8jlj00TllPT8he8/5kG4AfdEYjobDXiPH9r98kDaCo+8Axacy6VTc/9J9vX7oa4PeLX+DeF5iAADGRenjl7F43ZGHcucqirpNK6Y3K2XSqaTweBedId0AgF9fc1dLDSEdHS8G0dbSj9BS2/MfDeVe6zqK2n/+Lx+tav5P7dGmBtohgt/WRnz0Vj5xzsNg0SAvvvv0tyYWG51ep3WdZPr55Jbryx+e4T59Y3fnd/Si3ThQ1aev5ydjz+s+TfmChkB2fmfwtBUjgfS4yPjBrEdm35lpK7KM+K3eBO2w6oeIsENcci9M+YIGLn3BAYRuVPtHR+D1x+WxW2ot/9lsNmkkSDu8vDc7t+lm/hhPztxgzeElB8CtXkU+VSd7ZTRthBd27pPhQyx6NjPlUggAIFSQPQaURyt6lYNUfT56fjDeFmHzwH0+RhBZuNcMBAB6XaL4fLua4gmCYDPWe6XevU7aE2GKj+aa88UrNMiwhFDW7Hy0djEuUM5URlsi3v75A+Dbh98IYpnUK0MnaNxWgIuK1jsGxTIA4+bma9rKSjRS6hmRdSzfEcL1eD3bei4qMJaYrJRra+s5ukCJ+XKC/FHMu285elXHVmY9J7EEQRCslO/qhlJNiQxBEJSQWolrt6m9TQ5uqd1hU+WrIHwvNzUPXbm26S5atQVu5qMsQRAEI2bsafv6dgIa1zMSS1nL2qmqgjb2Gx5ezbPmJA0WKeX6LUTKVysXkTO8PcH0zgHNLYJgo/m2hnbMcMH+e1GUVBzIpZD3zO/Aol1N2Kvbe6l62zhwRnp+AvZ0mG6vkPYUZlILAQDQsVJH7nXkiR1UBoLpWm84GvZq6SAAfdGZLvKxg+tYsWcSFVmdTNTeTYyGQFY2Z1NVLgUBwrWRqk6m5iKle4ZOJpWQM1TPtJflAIAOpys95+uN463EHGYDAKHLWqfXqqSDAFy2MZyuppmptWy21OiN1Ik6bGQ5gEhjsl70hq6CN6qp3oQWL0bOOZ9PdWxlchcVWVXlmzAJQNN0+LI1moxaWQ6WIY48tHe0lvKt3dqczJTTtKUuD125tKmXVp352wIHEpWeOhm10o76Oxto2rmggQxfNuThsFe7jISzsrmS4IBqngfnbbDqTRAguFgWWZPfM4dp54IGCGUbPblXy4ZIgPlcxC9DZ3/wmpeoldBOg2eosLF4c0jRXibs3e29VO2SySnr+RHxtoh5gj0fcxrSdFhLBACCpdGyek5tTxsRgGBJXTw8KnAA4cZktmJI01YEyNhyNVItBYFOy+bmjN4vQ6eMw8sA0BfOZp/KlXSIBgCgw5ctO72jPdTKvMzZPMadwwO5tdmowG1bi5t7vnm3ClfUFc/nV51JLeT0br0E6Rgy1JsggB000FN7x2op39qta8B6bn1l2akr/1UaR8oNz7cMZ2i92WwY1aQRhrWgh6sJDqnmeXDWBmsOLwPLzYlVfHKYtiLgiExpLbyFW1P/DHcakaedy0TMk0iYsxwfl91w4ocU7alPn26/qWrPRtlJtufR8yOy1fMdtNr56593vxEE8ebdHwPhstMvOsLGiMnFxBdp/THQUnR5sz4fl0jQBvrKrBdp3THcf/v4Zr7K+PvnnwBuE+MdMwTrXMTKhJuRcnXFmMiVC+b73x+ljS1dVhDpu0FbMQBA7zcV4ESXvXw0bubjorWY9p8vt7ufVKGkq3KM/F4sOuMnba8Oy8//xrAMMPz8WyKGZexKbtPeUVtqO8jQDSBZhtpHV7umXGqDYinYPPyCtL4GAUnyjORwtGqeHadtsJR7e27LQR9oQEsSP8+FX7S8T4a7wcTL7a4H7XKS0gGAy3aUanz90MYBRW/R57Zuv1Mm22R7Jj0/Jwd5PutEnzqZzvR+Oe490ux+hHF1hjabGU3J5RDZrhlSDAXgkpaVcs1+JQi3zaa2/gjLgFZ9/4YgiLcf+9JN+3oj+KnRTYmf6lSuq5mz2WxU4naSZV50qnwVvPuaqzr2Do92xNNbe8dvKV/0weAOhDhP7a6rB2l1jW21eJoztSfIiRssKwokjLuK27aZ9wuT9SfXs6Y+GT4MNC7Hxb/+vQ+6ur0HFL2bPh+Yyfno+Qk4yPNRjCAIAs/6n1KleImHu8Fg8RUH0rqDe1KMr16DQLESD3dKX3PLAgDQ4s1lxwyBYgQG7vTFq8jaCyZlvz05QEq5fhuuj2fmdDo1Z3o3vxn0G2ntwX0gdZWxZ4P7traQr6bpn1fLad+u1fHFT3tw5Jbaht4uXv2ESDHJ++lqtU0fqlVnxqzEwy9HLTYSHKeaZ8iJGywj5aLk/X+LK8e2AOk68smBYkUe7saKvkiu6dsz9FXAFhxub+Du9g4qeosJez4GK6reJZMz0fMTseciqc9Z883F3EkrRgKEstauaeWCA+AKQ3ORj714PG0laIBgtiaPVFUd9hqly5uROZvNzE6MBDpRk4e93sj0z3BFyN4FCVzBWpmeNMJ0MFGotHq9Xqd2GSYBIjV1TWD7EIwNSQcTpd76Pp9aCQEEC/J0Zk46lyGAxTr6qBQEMrLx3cRyn2+hoQgAwOKEi091VpVpDrMB4Aqj+TGFRni5vO6lvWO1lG/t6ERDHg6Hcq9VyUYCAHTMUq23rtbb1DPlxj7fUuBpa1n/1e2ECAlk+LLRG8qdSjbMJXqrJ1wOqOZ5cIYGO+2lOTo432VUaxESgAylbxqdTqdVK1yE6EBaNn1tpBEBoBOV4WSi9koxGsCxx+yd4WH7T+boJkICQDDb29ZF9i7aS58+3X5T1V6ZnJmej4W3RcwT7PmYKacDrt7GOmBAJla/FDKHtXSYIwEAIBCau5PZqiHNZuaokY3YychAMJJtqPbvlRgHAEDH7F1xzww3RIFwzXpkKt8sHiG5cLo2nK4LbI5KQaATtaGqqqo66lVitP0XZ6XMUW1+TCZ4UShF6MVZjDQN9OY3UqacDqyduLDMJ+jYLvaozqoyzeFlwLHJbB3BWQzS7to7Xkt51G546XxZCARj2cryGycvXW22qY9WF/KvCWx2Yov6r/5pKpcSQdoSKJyujcxNTe5ZzfPgDA122kmQToWbaquQCAWslHQwsuhNPiY/7RUsKUguUmi0sgEyshxePTJ01tpNA66otQRHAh263Or2DivaXZ8+3d5V1a6ZnJWej8fRPd+xMHsJ0us87BGY1EIrJ522CDO8DCzmiLPZbDbtxABCtd3O/E1bCZqM7Zj47HjZtVtw5tU8e4PFYI7KVot4jlgNSBsrg2r/npQe7T4bNl6MQKbaN5LJNwSx2zNf/kN8Wfnhj7fEH9sfG5WCSrQ5yHieGzhrxtXiC67dgldSzQN5AoPFYJ6YwxzmQzA7CRIAuERl9IjTX1POBsiI+6cmLqnV1mXMWiYDIAPhixuvy4kwmNPjBRgsBnNEtloEYSVagyDcf8dgMCcINlgMxslWi3ix8fkwGAwGg3EFez4MBoPBvC6w58NgMBjM6+I5znZiMBjMM2KMB2MDKFYUX/z9PRh3nmXOZ7SjFBXvbrvixiOqE1LyPBWtn1RoewwG82Q8ON4bhfr59+/f/S75R1d/FZxk8LzH5yDPh5RmPm7HMGSEaKa6b/dB6P7ecNyR6pEhQnBvpxpfCwQVbeoAQIm5FPvvVXnsmjUGg1mClDxPrLL9ndMThxk+HL1dnBs9Kyav7UFkpyIcI8NBUGKxPyyFvQPMOopaUSAjJIvdg6pvdOMUwefWo8Qci2dU5nmyv+dDg7z47tPfmlhsdHqd1nWS6eeTG2F/jp0hK2XSqaT9Ia2QyXG39epjdSIM5uWAdMOO1TCnHj14hW/FDB/GuCh9/DIWrzvyUO5cRVHXijd+zCJ82dn5LRQ4HPYaObb/5YOUH+w/9FB8KpNOxV2CnznQ64fNv55bmefInp8BWrc12vHF50zVyV6fuFo3Llt3i/lk6H3P6fwG530KxWBeLD4G631j9bOi3gRdYhjvyPFuQDblUggAIFTwurrCLag9+Vj3u/rHbfbkRJR5SnhbhM2ecz6klOu3EClfrUTxYXj7TUbvXiftKTfFR3PNZfAKpFRTIkMQBMFG820N7ZjhgtXFaIqPC3Db9Q5Ig8Fg/HGaZLHdzfGMvQyqV0WCSS2mNUY7ulghdZqhXpco4brbzkd5iiAIik+WHVMnrV2MC5TLSGBDsQzAuLk52VqxdKTUMyLrXKoVrtd2OdC4nosKjFUUK+Xa2j5KoKTiQC6Fdln2tGAEkYV7zUC2Bvh8u5riCYJgM5bGvMZANMiwhFCeS7epH6MtEW///AHw7cNvBLFM6j2oLmtxGso8K/b0fPpgcAfBpOg2fUaDnPjh81gq94ajYa8a1f/5JGW6BgCA0c1E//wKqUZP7l0L/dznH7tkuJr7ymI0xYsB0PoaXu/EYA7BNsmMZZLd1Id/bu/srXeE0EqkUoQA5rvyK2aI7n9+/pDTkvXxRO1d8d2/ora9o0FO+lin8n11MlG7ear5Kbq+QMjGr7Pc3dcPvJSp9lfiuS2LQEo+/sf/QarW6bUq6SAAl200c8JqRfTBAOJXbUWdqMN6Uv/nY2ZzW0urioQnv723hiPL+W0bUYyxogNtR5MEdH/798eikevIvXqOp/zGQIClWl31QyW7qlwKAoRrI1WdDHI8+A6qz6XMl8JeU0VzeBlYhohaZdqIAARL6uKHUYEDCDcmdlQdzhGa55KzJ+d+GfpGeFIrQWegHgzmNeNlsPZinQP7LttpK7IaLavALdbL1JugM6aMc29iwyQdQbhGBQ4g1plamTsjpail4CI+o5OpXJkHqApftuw4GSsRMR3PWaG5OhtirDAqcG5Lu9POZSLmSSRsh9visp3NAcW52jkd1hIBgGBptNRAILusmM8Y6Azz5K2f9dVOvwyfS5nngbdF2Ow356MolgJAhsuLEdL6Y6Cl6PK2ez4ukaANdAT6QANakvh5Lrw0T+WT4TZJKOtlFIPBbIG+aM1PuIybSQbAMkkxytsJKF48LEwFyy+eY6M8gDY2AGndMdx/+/hmPqv6/fNPABdbZaRcXTEmcuWC+f73R2njmBwriPTdoK0YAKD3mwpwossBETRu5uMiSxEEQfzny+3KdHVeULzc7nrQLicpHQC4bEfxjLT+6593vxEE8ebdHwPhstMvCksxxORio8ZvDHQKvKt+ds3QquNTKfOFsOdqJysKJIy7isuCuLeOkPUn10NNPhn6ghACoPBXqBjMdiiGF2ysHXT0GCPaSo70xeocz2hKHtbKSrlmvxKE22ZTW5ebZUCrvn9DEMTbj33ppn0trmdidFPipzqV62rmbDYblTjYBzQux8W//r0P+rk9APtwrDqZzvR+Oe75krCHVnfTz97N9JzKPC/29HyMlIuS9/8t1le2WZGuI4qXeLgbLA+dIK07uCfFOE9RrMjD3VjRF8k1fXuGvnIgY2wAzfofEcZgMK5YJqksrBVpjtNiFEPBvT5fh3Fa6yaaMt9rR+O2AqQgskCxEg93Sl/zFWHFwCmKAqDWzBkp5fptuD6emdPp1Jzp3fzGUA1Iaw/uA6mrjD2B2ecN2uH2Bn5uDwAoxnpr8D+O4DMGriTz0Q8FAGihmx0zPAVlnh97L5KqtQgJQIbSN41Op9OqFS5CdCAtm7NJK0YChLK13nA07FUuOACuMLSj0UcA6ERlOJmovVKMBnAcwvXO0Hufb9qKAIQq5xpCG4M5Kt4Ga8oXNNCJhjycM5qYM9skyXChJQ97tWyIdJrkqMABBC876kTt3cQCjj9tmCQAHSk0erJl7/M9r2krQQMEszV5pKrqsNcoXd6MzNls2ktzdDArm7NJI0wHE4VKq9frdWqXYRIgUlPXipj2so5ZB0kHE6XeuhhqJQQQLMjTmTnpXIYAXHcUXfQyuomQABDM9vwPC/h8FrK5Q+YzBjr2+Tz1MzM7MRLoRE0e9noj0z/DE1LmCeLnwqwEBzxmqq1CIhQgAQCADkayFftbGHNYS4c56/dAaK7Z2Ww2m017hQhHAgDJRQqNVjZARpY9xiPDSSO82Gl3/tsKOwuByzPdfMVgjoyP5xterq9Z2QfKliYZTNy0KiHHy6g5rCSClrXGCq3WBT231hWTrIUAwjeVrHWuIhBON5aRa81RIxuxhwIyEIxkG+psNpt2EiTQFz1zNpvKN4uxguTC6drQLntZhDkqBYFO1IaqqqrqqFeJ0fZfnGKYo9r8ZEfwolCK0LscylBrCY4EOnS5xe3NZjNTTgcW3maV1UFprjqPMdDp+bz0M5uZo0qMAwCgY/YxFs8MT0aZJ8mjeL7n56xPHWEwx+bBBus8wLkjj/0FtDm8XL2uYtqJAYRqZ7rQY/YSJARv1Gcq/WUpcztbLeIsoxSN681bLpMX8C4fBvNSoRiBhdt2ua3ohmHoSrOY/wbhXPSwQ6jPCtLGg3a1f0/yz3WR2AtS5pE4wyhFSKnW9cg1dnwYzNGgKPtoxF6PkI95vJrPtFvjXDHz7u0dAJCBcPJGrub4xyvwsUD9vPjhv/dcolKOPtcVmi9GmceCsCaG678S7r9jMJgTBBssBuNkq0Wc5WonBoPBYDAHgz0fBoPBYF4X2PNhMBgM5nWBPR8Gg8FgXhdneLYTg8FgdscYD8YGUKwort/6hXm1nN2cbzVE7VFBgxzPRNsv+7Y6DOa1QaF+/v37d79LO8WefV4ecXzDODnI8yGlmY/bYYIZIZqpPmWHWg1Re0SM7lVdl4rLL27cq4mUPL8Ma8kIyWJ3ce/vyp8IgiAk38COdno21Xak0soCwebXY4w8Fk/RlGtqYYRopto/YsDLp1Ljs3b7Q9nsk/P46ocwvhYIKnq8aKWPbmIAAECJxf6wFN458PrLG9+eRs/nxd5Xv5jyZRAAghelRqfXaVUKCY58wpvEVu5MmtQ2L847OONGBMhEZ3nNnkc1rSuALxrD0XDYaxQiNAB3KS8vpaUTteXtwKqvaIuooc7olqMCB3T2Se6JfaKmXGpsNJR7rUo2TAOQkWVMU3d2btwnUeMzd/steBusQ/lzJocLPe2V0umbI9X6KUzMWdywFAYACBVkv0vaXt749sR6Pg38XJiVYM/HrAtwudXLoqfqA4xpT1Z7RuVoVwdOWxFHcHifaq7d3T5txUggL3rmzPdad1esS2zTFxxAaHGh35N5vidryk21TBoJEiDs7/t2btwnUOOzd/stbPF8p+OilzyNia2VKZdC/s7v2Rv66OPbc+j5BNjq+fZc7URKuX4LkfLVSnAnhreDQend66Q9p6b4aK45D7qn1yWKz7eb+ShLEATBiJnmPKwX6O28xBLzn60ZtV4VCSY1mCcx2tHNNRqjLRFv//wB8O3DbwRBCGUNdpGhmuIJgmAzg9Xc0LitABcVmV2q6YQRRBbutf2jys+hxHw5Qf4o5t03GLdUp56zlMdK+a5uKNWUyBAEQQmplYCHWrsYF6jVPB6hKXeGTZWvgvC93NQA0LieiwqMJR0r5doaeDSua8pd1Oj5oFvfA0DjekaywlKzYqqqoGfV1aOB5r2FYKPFdjfHM7aJ+VifcxdKr0uUcN1t56M8RRAExSfLjlVBty63WvrTmdgCSioO5FLIe9nz5Y1vz6Lns2A/h6neBMHrwnFTzgYAgmkrlFQtHQSgLzrLEFAAgUSlp05GrTQHELJe+KetCAmhUk+dTlW5UWlNFsU4ZvnOi+SdEadUuRQECNdGqjqZmrvJQMdKHbnXkdcuKZ9UQgCRRchA32puvijZk4uD5nzBG9VUb0KL1zLnZGV7dbiLiqyq8k2YBKBpOnzZGk1GrexSwfOQTomKrE4mau8mRlurgkdvSv9qrqnFlNO01Y5qLZstNXojdaIOG1kOINKYzFwb1yPldjV6FeHa96adCxqpfXUNAAAgAElEQVTI8GVDHg57tctIOCubT6erA/E0WM8+Oe1c0AChy0ZPXo/Pt5v1LWt301Mnaq8UIRe7BR5dzskjmphaCe009IUKG0sCL298e6Kh7OTwtoh5gr0eM4eXAcea4ArTRgQgWFIXP4wKHEC4MZnZrbI0esvN2LEQg0DOQ1Et2NH2NlYDtsqwYYDOitEX9h/9qrnSJ6bDWiIAECyNlovjTpxhQbyyCt6o8x4drqgrQ/buKjV7CXJhA3Z3t0OqTVsRIGPL+DNqKQh0Wp4evSn9q7luRVaW62FxnOGn/Jd6HCm3qdHrQde+N2mEN/zT8bv9sdni+RyQkcZ0Zi/uB+fR4mbm0NEc+3g+h6ZGBQ4g1pl6drmVN59HNLFp5zIR8yQStuMVctnOeukvb3x7qqHs5Njq+fZb7aQolgJAbvNhpPXHQEuOsBd8XCJBG+jzxCw//5sjFz5ZTrPfPvFCMl9fJj2Q7TKISdH9ix5kIID5n3yqafPrn3e/EQTx5t0fA+Gy0y864kY441/3i8JuklPSVTlGfi8W+44lmH1UyrAMMPz8cyWGZebyI607hvtvH9/Mz2j9/vknAHqEptwLZOgGkCxDAaBxMx8XrdXF/3y5BeR5sm1rSlc1ej7o1veQ1tcgIEkr0VueWVcPh75ozU+4jJtJBgD0gQa0GOXnovHiYfFqlrUDNsoDaGPDs8s5eUwTY+LldteDdjlJ6QDAZTtKNb4eOOHljW9PP5SdC3vu87GiQMK4q7gtkR92FJeN17WJXE9CN/f+rZgfPKhzHCgDAFAMBbB42qeaFtZhOXUynen9cnx1mGQFcQ6/e0wSNlW+Ct59zVXHy98Or86GuKuvgkZToo7flPugDwZ3IMR5yuimxE91KtfVzNlsNiqtBxBfslNKNzV6Puja99zq/ry6ejgUwws21gYPegyxV3J063LOvz+DiQEal+PiX//eB13d3hapznR8ew49nwV7ej5GykXJ+/8WV85PANJ1RPESD3eDweKjD6R1B/ekGN/h2gRWSl23FaXA/ayWBwgsP3Svz19UkK55fUpCAQBamNzhMlCMwMDdokTvai7TC4LAs8fsDkK+mqZ/Xi3nKw9R6QKKlXi4U/ra+h8epyl3Q28Xr35CpJjkkdYe3AdSVxnR2nJ3Guhq4/qldLKhRv8H1/oexUo8/HLUHQCeV1ePAsWKPNwpC7GR5qjxztYHAJoyP8qBxm0FSEFkvbuckyc3MYfbG7i7PV+pznV8e5ah7CzYe5FUrUVIADKUvml0Op1WrXARogNp2ZxNWjESIJS1dl8rFxwAVxgutwSW69XTVtheezaHhXSh1hup6qhXCpOLrdhRgQMIXnbUidq7iQUA3NfBzU6MtL466fVG5my2hwxrmL0LcmUt27OaPnu/nn8alYJARtY3tRwbVDaTWgQAYLFBtXN1zGE2AFxhNN+rboSXi/vTVoIGCGZr8khV1WGvUbq8GZlHb8ot1bRXTuReq5KNBADoWE2dzezjCMGCPJ2Zk85lCGCxI7TeuJ4pt6nR40GPvjepRUggw5eN3lDuVLJhztqPeSJdHYi3wTqVb2F9zzdpRADIcKElD9dPuOxoffMjFZFCoydbFZ9vM3l1uWkvzdHB+V7UUU3MH3N0EyEBIJjtbdP4Sxjfnk3Pp4OfC7MSHPCYqbYKiVCAtEaXYCRbsb+OMYe1dJizfg+EEqVFL5s0Vr7INDux+UHKSStrP0EGwtnG4nNJc1hJBEkAILlYodW6oEn7aMBqVuaoEuMAAOj5LvKuMqwzaYQBwjXHVrRHNU05HVh0tzXFePzJlNM00BcbZZtyOrB2msKyUOfRg52qYw4vA8Atnpq2Io6TqjNz1MhG7EzIQDCSbcyLPGZTeldzeOlYmSQDwdiimNlsZo5q6RBtlX9RKEXohb2tN65Xyq1q9HjQq+9N5VIiSNu/p2vz14kn0dWB+Hi+FeUDwML5TnsFq1OQwcRNqxJyHDjayfomtRBA+KaStVQbCKcbo0V13LvctJMgnbU+non5otYSHAl06HKr2/OT6ozGt2fS8ymx1fPhmOxz9Lr4Nse29G7y2PN+o53kU6isdTOHnSI4E15JNY/CsXX1YIM1mtKbT9CaDnbv/XpdfPsH2zG78ZNe2MW8SrZaBI7VMIeNFyOQqfaNZPINQRwx41EpqESbg5fuD8bV4muo5lHAusJgnhfs+RawyesMEy13jeTR57vacbM7SYTiWHtuGc6FE9QVRQFQ1F6zN4oCcr8nMJhTAa92YjBnDzZYDMbJVos4u/h8GAwGg8E8COz5MBgMBvO6wJ4Pg8FgMK8LfMIFg8G8JozxYGwAxYriaV+0g3lM8JwPMwcpeZ6K1n3uqsJgzh8K9fPv37/7XXIN0XdaOAMiYo4J9nz+oEGGIYTr8dpv7OI3pOR5YgWpqS9/Z1NthyfRygLB5pVj9mOkNPNxO1IlI0Qz1cOtmRJzKfbfq/J4e1LMWYD6SYpgc2sdDo2LvB0YdXwtEFS0eSovO+6dedXEGCFZ7C7uG/WwPl8osdgflsLe8Wl3kuqJQAjuj367+NPo+bTBnm8LCCFAxvpvBiDDvkgW6YZ1td6cZpKd/w7w62vuank/O9LRUS/3R4O8+O7T35pYbHR6ndZ1kunnk8XDPauQyXG39epRXTPm+aDETJT81SyvNCgaV5u3ZDQjUACslEmnksJJ3Fbs3ZmRblghBYbDXiPH9r98kOZBD7ysbwu7O79jm9hD0OvHmAA+pZ5PmcMuPXs1bNxk7fhtGcLR5WpXU76ggUtfcAChxWXKnuFSD5NteMktYpDPmaqTB2Q/v/n6wbJhnhRPg512YuRaVNhRgQPyaDeGHgufzuwWOtyuwMMuVjblUggAIFSQPS70fAQT2w/fQLWH8Bx6fg62ujA853tMKDFfTpA/ivn25mslGtdzUYGhCIIgKFbKtTX7D3o7L7HWgoOYWawpoHE9I1mxVVkxVVUQIKVcv4VI+WolGCVjBWAD0LvXSXtBg+KjueY8Solelyg+327mo+y8DG3xFknxcQFuu4MzX8nAzGGkfJy8azum8eN685ZO5qxoec5tJM8OiZR6RmSdS13zpX6tXYwL1FoXsztYPWf1YlbKd3VDqaZEhiAISkitxstZlOHbmVeqJIgs3GtHiPBLScWBXAp5z/wewcTcrFuvivbqMwAAGO0oQcS7q/Uz2hLx9s8fAN8+/EYQhFDWYBcZqimeIAg2M8/8WfR8kmDP97iw8fJ16P6/+auN9RF9MID4VVtRJ+qwntT/+WjZgdFOpf5G+Z46nard4jyap9HNSH80IVWXh8PedVSvVxWkDwZ3EEyKbktVaJATP3weS+XecDTsVaP6P5+kTNe2bXR/+/fHvJZqqpNRK2n836dkXZs/SPFiALS+9kK7++uDkXIrrs9yfPl5x3JsI3l0SKTk43/8H6RqnV6rkg4CcNlGMycAoEFO+lin8n11MlG7ear5KToP7nt/+/fHKyPTVlX5hlf+/iDw0Tp7NZiMWhn09Y/Usrst8OvMaxhjRQdadBmr3dGqIuHJb+8//wAA2/m52OhxTczduhFa3QRBCMBY2xRhkl1VLgUBwrWRqk4GOX4nGYpGriP36rn5KdZH1PO5cdhU8dWw22qnEzvxMmicKWcDAOGK6rPaOSpw9mKCWgkCOQ9JMmfSCMNaHB4rMNEi3Nsq00YEIFhaph8VOIBwYzKz10+WeU0qIYDIcgVFrQSdAY4wZ4GfwZq9C3qx4DkqcM7FT8+glasdcvGEFf6qM7X/ScaWHUUt2elWO5jZS5BAX3TsdOpNcKW7zWX06cwrS23TYS0RAAiW/K3PybRzmYh5EgnbQZy4bGe99OObmKt1z9SboDPIkRVd0yVc3/pq51YZAutjzWPq+bTY6sLw93yHs3wZohON7pVg/Z/hhbVk0lU5Vv9ULPZTV87f0bhZzF83+z9+3VuZIAQAfLKcvv7wiReauWKxmJJYCgBpfQ0CSWllT5miWAoAuS1GIK0/BjoeXabn4xL5pT/QUcr6jeXnf1vmQtnZUtZLJ+aFQEm5OP21XVWQJGnt5i2dzImu7/HuHZIVRPpu0FYMSWL0flMBLmP1ye4Y7n99fOMMa0KL838tOxjDMsDw8zkHwzIr3W0uo3dntvn1z7vf/gEAgEDkstMsCjtaHwATL7fjHrmicTku/gvAZTvKZqD245uYm3UfzHYZxORaSz+mns8MvNq5BYqiwNBXugpCxr3VnReJWEGcw28uJLCp8lXw7muu6vhewOimxE91KtfVzNlsNiotwoey8bo2ketJ6ObevxXn60cuXZUVBRLGXcVtf+Jw14UQsi7ux7wUKCmfpO/aVcUYt6u3gVTe1fF5dkiKZUCrvn9DEMTbj33ppn29eJ6+WJ1TGE3pwJ7j05nnRTWGo5E6mc70fjm++g7ob32eoHE5Lv71733Q1e1tkepAE3O17kM5QIbn0PNpgj2fPxQfF+CuW3ds0xlKfQC0tDoD24KQr6bpn1fF/rzHIa09uA+krjL2OvpqT2Sl1HVbUQrcz2p5gIBiJR5+DdbOnTBSLkre/7e4emIA6TqieImHO0d6pHUH96QY335nBTLGBtDsi13cf5VQYi5J37XL7Xr1NpDMCW6N69UhkVKu34br45k5nU7Nmd61/SbFSjzcKX3tOCJ6d+Z5HRhBEASePdaI63B7A3e35yvVA0xs3boBKIaC+8XbNdI1rwNmFAAgWKjkABmeXM8nC/Z8W2CT5Wzg1z/RaL7a7vf77WouGv96F76+2u/tlopelyP3P7/fzf/PiCz86jcVA5Dezae+3Fq/I6WYKdb7Y00bD9p9HXiJpwD4ZD5C/sin8s2+MuhWcxKf7CNgktVqhPzxlyhlys1ut9uuF1MiKxYVxCavYuTPv5K5el8ZK/1qJv7llstfR7d3Z6Qpv4CP4mudXhSUmEsF7r7+8eU2kHJ3fJ4dkhJyKe77p7fEb2/evPmNoBghed03AIBNFhP0z8/JXH0w1jRN6Tev82W3Y5veGP0Mzwi5AQLw6cwPrbwLS7fX83Z74CvVQSbmbt3ASnEOvhevupqu9cvJ6OdbD2lYlgSl2h4o/f4YAewqw7Pp+aQ5bHvwdTHplS5CARIAAOhgJNsYLdd4TDkdAK7g8j1fOrB2KGV0EyEBgiVrb9gc1dIh2sryolCK0Nbe8qSVDXMkAAAZCGcb6mLbWy4lgrT9e7o2l8BUW4WEU7aK/WmSOayl7YwgEEqUevNN7Ukj7NxONzsxx4kWU84GIHB5Rt/tYGazHQzW+oxr42CCszO4d0hzVAoCnagNVVVV1VGvEqMdTzSyEbuPkYFgJNtQZ+sdzBxeBoArzYu1jsjY3W3aSZBALz8t9OjMXibm/ydv1FqCI4EOXfZ2Osd1TBPzsm5zWEkESQAguVih1bqgSfsU0JoyR5UYBwBAz0/J7CTDM+n5WdlqETgyLcbBuMj/px4falX3MxCYE+XRDBYpef5dOzPSru0TDUY3/uaDXpsomXO/wwPzktlqEXi1E7NkXG/ecpm8+3oY5hVCMQILt+1yW9ENw9CVZjH/DcK5KHZ7mPMGf9WAmYOUal2PXGPHh1nCZ9qtca6Yeff2DgDIQDh5I1dz/HOLhcE8DLzaicGcPdhgMRgneLUTg8FgMJgVsOfDYDAYzOsCez4MBoPBvC7wCRcMBvO6McaDsQEUK4r4CofXwoua86FBjmeiLrHw9sMZtOxZQUqep6J1HCwPg/HhwQZLoX7+/ft3v0v+8dlfBScz+j0y+3o+pOT5tRBX6zEU92B8LRBUtHmkod3oXtV1qWhf3qO3i3E7ZCMrJq/tLr1TiY6gZQeBlGZ+XjYjRDPVgQHrqmOEZLG7CDu7oVWpqVuXTrH/XpXHfoVhMF6gfpIi2NzazVRoXOTtSKjHNcCH8YwGS4nF/rAU9g5R6yjK24r3wujGKYJfb5qj8YzKPBP2nvMh3bDv855Tjx68QsBKmXQqKRzndlS9W/4G8bzEAACMi9LHL2PxuiMP5c5VFHXtqMhHLdEVNMiL7z79rYnFRqfXaV0nmX4+WVSQQ3XDYa+RY/tfPkjzy9qRbgCdqMnDOc0kCwAgZHLcbb36+i7VwxwDSsxEyV/N8kr/QeNq85aMZgTqKcxhV57PYC12dn4+VrxXeXwqk07F/a+G1+uHzb+eW5lnwZ6XnjmjF54W01ZkGXNRvQkugjvujWe4zh2w7kfkVm++nKoTc0N101aMBNK6TM9bq+YwGzj9MJCYZ8bTYKedGOkMRTuzwpeSy0scT4NnM9hVTLkUAgAIFWQPUXys+Pish6LdkRNR5rPi7cJsjrfPh5RqSmQIgiDYaLHdzfGMvQyqV0V7bQUAAIx2dLFC6lxT1usSJVx32/koTxEEQfHJsuPVS2sX4wJFEARB8dFcc/NOeDRuK8BFRet9hmIZgHFz891tZRUbKfWMyDoXGYXr8Xq29VxUYKySWSnX1rYooVy/hUj5auXeS4Z3ebVjBJGFe80nSCSAHSXptjs4ifUozNnBSPk4edd2rBqM681bOpmzQo04zcGzq3ubiatV6nWJ4vPtek5iCYIgWCnf1Y354EAJqbpbQIfnMth1MaTiQC6Fdln2tHBasV3xaoonCILNWCOe3r1O2suOKyMXGmRYQijPpdvUpNGWiLd//gD49uE3glgm9crQWYvTUOaJs6fD9JqdTDsXNEDostGTe7VsiARYvHWoN0HnzeXTRnjxJ+f7xaQWAgAIJG566kTtlSIkkInO1Co0G4BAoiKrk4nau4nREMjKaxJMKiFHzIHZtJflAIAOpyu9iSOpo0RzmA0AhC5rnV6rkg4CcNnGcLomlVrLZkuN3kidqMNGlgOI2Jeku6PeBAGCN+oOqpu2YiTQVj18ZtLm8DKw9tKOwazhbbD2Rf2LDjQqcI7/7dDVPc3EyyptQ+YuKrKqyjdhEoCm6fBlazQZtbIcrEUwmYv5hAarVkI7jY2hwqbZ+VixXXE6VurIvY48sVUEwXStNxwNe7V0EIC+mI9pF/Q8hoWHJqeqXAoChGsjVZ1MzUVK9wyfS5knio9F2An2fMyUL2hn5yAjjenMXmoMLmKRmMMCd5DncxjFqMABxDpTK3Mytpy8q6Xghi+wHMRKiOipXJlHXQlftuwWc5SoVhzZWNFTOhtSrTAqcP4rvebwMrBccnVTnf34dFhLBACCpZHpplXn+qZaCTpdOgaziZ+dm70LetHRVx3fLl3dy0w8rXLVkM1egnSMzupNECDivpb2ZAY77VwmYp5EwnY4ei676VP8rHhSC8HKO/m0EQEIltQVeSBsvVAsPZ/3+La+2umX4XMp80TZ6vkOWu2kL1rzEy7jZpIBAH2gAS1GeTsBxYuHXebO8ovn2CgPoI0NQFp3DPffPr6ZT8p///wTYH2OjwxkxSxewEi5umJM5MoF8/3vj9JG7EVWEOm7QVsxAEDvNxXgRJdFSTRu5uMiSxEEQfznyy0gv2NPFMVStige/Prn3W8EQbx598dAuOz0i47boelEY3HCpV8UlnlSAK/grBXmkaCkXJy2FzzH7eYtncy5x6By7+oeZrLFKpeGzLAMMPz8OzmGZTwN5MkMlomX210P2uUkpQMAl+0onkFrfaxYTC6Ui7T+GGjJEdeCj0skaAN9RaLdxrc9MrTq+PSj33lxkOejGF6wsXaw0GNoZCXH1encbGY012KiU4y7g2ClXLNfCcJts6mt/YliGdCq798QBPH2Y1+6aV9vjAhGNyV+qlO5rmbOZrNRidsiMysKJIy7iucOgXUsVp1MZ3q/HF95PaBYQZzDL00OIQRA4Q9sMYdCSfkkfdeuKsa4Xb0NpPKujs+zq/uYyVarPICnNdhVlrHafdwe+FrxSna7j4q7aXLvYfY5lXniHOeEC8WKPNwpi3MYSHMcyaAYCu71+Wse0jWf0xqaos3TjdsKkILIAsVKPNwpfc1XAkZg4G5RyqrbpCgKgFp7pUFKuX4bro9n5nQ6NWd612VAQFp7cB9IXWXs96GtW96MlIuS9/8tru7iI33xUkYx1vvCzgeLkTE2gGb9Tz9jMD5QYi5J37XL7Xr1NpDMuUah8urqXmayk1XuwTMZrPPZpdsb+Lk92NWKKV7i4W6wHAqR1h3ck2J89aIYP01SAIAWutkxw1NQ5ulzkOdD+lhZMNYRABvPR+BnMVVsD5R+PSdJf98uUrNSnIPvxauupmv9cjL6+dY755+fpXix2R/0q5nU/90FMkWJAmCTxQT983MyVx+MNU1T+s3rfHn9SBMriCTMHa7ejDJCslht9/v9bj2fzP2ASDHJrzxACbkU9/3TW+K3N2/e/EZQjJC87q81LsWILPzqNxUDkN7Np74sRbc+Ct24L4ZJVqsR8sdfopQpN7vdbrteTImsuLHYsDNIU34BH8W3KmEOhxJzqcDd1z++3AZS7o7Ps6t7mslOVumP0c/wjJAboKcwWH+Wbq+3ze3tDpu8ipE//0rm6n1lrPSrmfiXWy5/HWXWk3lpkmFZEpRqe6D0+2Pkn+EJKfM82HN70PpebQX7QMe0V4hwJACQwcRNqxJyfFFiDiuJIAkAJBcrtFoXNGnvcU8a4cXhl0ktBBC+qWStfdlAON0YLRYAzFEja+UOQAaCkWxDXZds0ggDhGvWXu5UvkmH5+m5cLo2nC5TWSWao1IQ6ERtqKqqqo56lRht/8UplTmqzTeKgxeFUoS293hNOU0D7f4dj6m2ColQwCqdDkayFdk6C5cOAFdwPcDp+Sfr2NfluewrY54Hb4O1se12/cvQ7V3d20y8rNKZp33oi1ucfbPOUtgDg3Xs9KJnPoHB+qLWEhwJdOiyt/UgmY8Vr1Z8Xv3aol6BUKK0KMB5ttN7fDNHlRgHAEDH7GMsnhmejDJPg60Wsa/n2xHnAc4defAXlJNaaOWIlD+WRToGgmknBhCq7XZqd9pK0GRsx8QP4bwOVGGeiQcbrBcPM5OXKclRMHsJ0uv7pyco/WUp04WtFvGCbqxm48UI9Kvrc3YPKEZg4bZdbiu6YRi60izmv0E4F/XcrnYyrhaVaLOeOewA6x6M681bLpN3X6DCYB6bB5nJC5XkwSBtPGhX+/ck/1wXib0gZR7MYQ5zG9NWZN8JnNtawZ6YcjZARhpTvyD0Z8TMHF4GyMgLehHDPBLwWHO+2cxUW5exoP25KRkIX9x4Xez12JyOJA/D7CRIAOASldHzreW8FGV6sdUiCCvRGgTh/jsGgzlBsMFiME62WsQLWu3EYDAYDGYHsOfDYDAYzOsCez4MBoPBvC6w58NgMBjM6+J/nlsADAaDOU+M8WBsAMWKIr5k6cx4yXM+NMjxzOYFY6fGSrhIDAZzNlCon3///t3v0k5hbB8PPIbszV6eD/WTFMHm1u6gROMibwddty6zbJ5GAHGje1XXpeLyljykNPNxO5wxI0Qz1YEBAEjJ88uwxIyQLHYXF2+v/IkgCELyrJveLs7zZsXktW0IOykEIbg/MNbFmoSMEM1U+8dS/3k19yqGUs/N24OgeClV9lPLCVfkQZxbC55dq1FisT8shXeJ4Y4GOZbgi/vdbLozHmOIPT6wqbZDS1pZINj8wTcJ7yHUo1b5gezl+SgxEyV/NcsrSkPjavOWjGYECoCVMulU8rkuJlhF75a/QTwv2cKgQV589+lvTSw2Or1O6zrJ9PPJooIAkG5YYUeGw14jx/a/fJDyA6uGSDeATtQWYfOGzaT7LQfjovTxy1i87shDuXMVRd2mFXPi0RWyEH40lHut6yhq//m/fLSq+T+l13d5RTyr5nZidDPiuz/qunTV6slyr3Udh/Zf/yskPQfJU63IQzmrFjzTVtvd+RnIN3Tno4B0AwB+fc1dDdDyN/RUgfaeo8q7st8H8NNOjFyLhz4qcEC6X938nExbEUd0dOvCXm715uepOjFXgyzPZrNpK0bO67P2J2/Um+C+15QueciFpZsSThoJEiC8jG3vWmRltyLPp7kdmHI6ABC6cV6QYY5uQuB1w/gL4PwN9sxbzZRLIQCAUMHrKpSdB5ND8BpDrHux0xccQGhxR+iowAGdlR9fqY9a5S14WsScPff5GCkfJ+34zhbjevOWTuasOIrO5WY0rueiAkMRBEFQrJRra/YTSKlnRNa5hihcjwEAQGsX44L1AB/NNa1Zsl6XKD7fruckliAIgpXyXd1QqimRIQiCElJ118k0GrcV4KIiYxdZrt9CpHy1EoSK4V2i3jGCyMK9tt+LCsUyAOPm5hvfyvq7d8UdYnsobWfYVPkqCN/LTc0jN6MtEW///AHw7cNvBEEIZc273LNpbqcKlXL7F5kor0TjoYTMVQTuunUFLYqopniCINjMAO3aTI8j8KNyLi147q1GScWBXArtsuy5ht69TtoLvA75AADQuJ6RrHjorJiqKujA8YES8+UE+aOYdz/y4CXAXipyVfJRqvxo7OswrWAYi5fIUYFz/M/56qHWstlSozdSJ+qwkeUAIo3JbDYzh9kAQOiy1um1KukgAJdtDK0gPtkABBIVWZ1M1N5NjIZAVjbtPAG4i4qsqvJNmASgaTp82RpNRq0sBxBym99MKqFlNBRrTuZxMbrbnM9+I9r9nWXay3IAQIfTld7EkdyhEM+K76A0T9wkNOU0bWXokdtUlUtBgHBtpKqTqX+5Z9LcDtSboOut86MSZy8C2EXQsVJH7nXkyW7N9GgCH4OzN9jzaDW1EtppUA0VNmdUroOJKWcDAMF0rTccDXu1dBCAvuhYUd86FzSQ4cuGPBz2apeRcFb2tGj/OV/wRjXVm9Bizcs55/MRYHcVeSn5KFU+EB+LsBPs/ZjZu6AXtrNqR94Ld8tgO2oluHzCitbVmdr/dMYYUkt2ukkt5FRyL0EuNGUbTMSlxYeXAaAv7GLM4WXAsfS5ltTRPNNhLREACJZG5hGZwloAABVLSURBVOJPTtbDmzmZypV5LKvwZWuyoRCviu+iNE9c+9aowLmsvTpz81/tXCn3LJp7e+0tSayxdVILgW2bmxV5eoGPwdkb7Hm02rRzmYh5EgnboUu5bGdzqHEz1WkjAhAsqWtqaEzscKP+L00OO93m+eYOJ1xRVzyfjwC7q8hTycev8u5s9Xz7f9VASbk4ba+fjNvNWzqZ2wxkDwCAxs18XLSmrv/5cmtvqrKCSN8N2ooBAHq/qQAnshQA0rpjuP/28c18reL3zz8BFpNdlp+fLGFYBhh+/vUMwzLguoeKDAQwF4uiWMo92Zxf/7z7jSCIN+/+GAiXnX7RseZCJxqLEy79ouCZBSPl6ooxkSsXzPe/P0obUdg9Kr6T0vYCGboBJMtQ++TmmfI8mtuBV1sjDQEwzFx2MelejacX+LE5ixY8j1Zj4uV214N2OUnpAMBlO8qOUd2R1h8DLTliA/FxiQRtoCOk9TUISNL6gbqDxwdKuirHyO/FojOKm48A9v93UNEWJT+4yo/EAd/zUVI+Sd+1q4oxbldvA6m8a2c0uinxU53KdTVzZi9a2I+zDGjV928Ignj7sS/dtK8Xzy8maTZGUzr0+1CKoQAWvYIVBRLGXcVz/d06HqlOpjO9X46v6J5iBXEOv7VDs1Ku2a8E4bbZ1NZF8q74HE+l7YM+GNyBEOep3XPzS3kWze2AFXgStL62Znq60r8FTtp+EvDJBX50zqEFz7zV0LgcF//69z64u9sDAF+/5fanB40PbKp8Fbz7mqs6zhYc7Yjnzkret8qPxiFfslNiLknftcvtevU2kMy5hk1FWntwH0hdZeyJzdznIKVcvw3XxzNzOp2aM71rmyHFSjzcKX3tsGpsiMgIDNzp89c2RspFyfv/Flf3rZG+eLWhGEEQBJ499IT0SpNRFGW/xDpTeFR8JY2H0vZBbxevfkKkmOT9cqMAAC2k9i/3DJp7RVwpFyXvmlfOL5gADa6L3yGYy3jP2Z9N4MfnDFrwnFvN4fYGe7g9AIqXeLgbDBZ1Rlp3cE+KcZ6iWImHX44/WX9+2Pgg5Ktp+ufVctrnI8AetdhHyftW+fE46A4XSsylAndf//hyG0i52xFQjMjCr35TMQDp3Xzqy639u5BLcd8/vSV+e/PmzW8ExQjJ674BAGyymKB/fk7m6oOxpmlKv3mdLx9+LI4VRBK0hRaZZLUaIX/8JUqZcrPb7bbrxZTIihtLkluxvp5dOySlN6OMkCxW2/1+v1vPJ3M/IFJM8itpPCvuTOOhNK9ybZA+VhRFGfTb1VxU/PgVYrV6ivXLjWFZEpRqe6D0+2PklxLgdJvbQydMslqOwLdPYjRfbXf73Xb9OiW+//s2VGjmtw2hzyLw43OiLWj0Mzwj5AYITrnV/Fm6vd4Obg/pgwWKhtjkVYz8+VcyV+8rY6VfzcS/3HL56ygDwCfzEfJHPpVv9pVBt5qT+GQf/O3UxqnVNajodTly//P73fwHHwF2x1/JD6vyI84CD9setL6P2zjx4Yyrbo5q8xMfwYtCKUIHskNzZo5KQaATtaGqqqo66lVitOOJRjbCkQAAQAaCkWxDXcvTPqzClebFWpvZbh/STRphgLDzsJiptgqJUMDKnw5GshXZOv2VDgBXcDtIsvknU07TLh8YTeWbdHguORdO14bTdYV4V3y70jzLnbeDDRkIxuxazfxym83MUSXGAQDQMesAn2fK021uL51stDUZCCUKjeWHYqtF7NpMjyvwAzlPg7WOnS4VcpKt5otaS3Ak0KHL3tbEq6YKAGSsY85m5rC2GDoCoUTJkdFULiWsqOlkIJyujUxvO3VWx6lVU04H1g6NjG4iJEBwUVlPAfZRkbuSj1LlA9lqEQd6vkOx9Ocwv2kn5nqa+eFMaqGVE0fHYNpK0GTsEGkfVvHDy31eHrO5H0UnZyewzUsw2MM5CyExT8qpeT7ri5hgtjWcTKfTybCRDW69cORQJo0Iabm+LdNezBkyKgW5ROvoY9vj9c9HEtgCXoLBHs5ZCIl5SrZaxFN7vpmpti5jQfszOTIQvrjxuu7n4UXJ2QAZcf+K7+l5woqfEGdX67MTeDabvRSDPZyzEBLzhGy1CGLmNiUiCPffMRjMCYINFoNxstUiXnJ8PgwGg8FgNsGeD4PBYDCvC+z5MBgMBvO6+J/nFgCDwWDOGWM8GBtAsaK4z90nmGflZc35kJLnqWj9ie6/wWAwGKBQP//+/bvfpf0i8x2dlYCFGH/29XxIyfOO6I+MEM1U+8fyNNbtTs3Ds6PEXIr996o83p4Ug3nxoH6SItjc2h19aFzkCSY1QEewuKNx2gOLP5RY7A9L4V3C0qJBjiX44iNFK0YI7l2ufbZ1y6act6JqZYFg848a+9Uu/VGrfDB7z/mQbtiRDYZyr3UdRe0//5ePVrUDytbra68orJRJp5LbL2b3QcjkuNv64wbzxWDOA0rMRMlfzfKKOaBxtXlLRjMCdRSLOxYnPrBsYXfnZ6CnD1uFdAMAfn3NXS1v80Q6Ol6oBn+eo8rb2fMzwM1gg5NGgjzsxgT/+KgHYg6zAd8IshjMi8PTYKedmDMi+2xmhQIlH+X20Idw8gPLLphyKQQAECp4fUjvGkr6WPjGp+XSFxxA6Ea1f3RGZn9UHrXKnni7MJuH7/OxqfJVEL6X7Xh0WrsYFyiCIAiKj+aa9hxXb+cl1lrGEDNNHcBoS8TbP38AfPvwG0EQQlmD1XVqvS5RfL7dzEfZ+WOO4F169zopMMR6MQBA8XEBbrtPFesCgzllGCkfJ+2wtBbjevOWTuas8GlOi0Pjei4qMJbtslKurdlPIKWeEVnHUiQhXFv7Ca7GbltuPWdZPCvlu7qhVFMiQxAEJaTqO657ndjAsguUVBzIpdAuy55reJeLxvWMZIWiZcVUVUE+LeUrm5gvJ8gfxbx7rBAvAfZqTfc2OkaVH4E9HaabAzflNG29a5hyNgCBREVWJxO1dxOjIZCVzdm0FSEhVOqp06kqNyrW5YVTVS4FAcK1kapOpuZstvrOMqmFAAACiUpPnYxaaW4ZqN6UswGAYLrWG46GvVo6CEBfdBbXhg8vA2tvuRjMy8bbYO2r+xf2MCpwjv85LU6tZbOlRm+kTtRhI8sBRKwwHsNsACB0Wev0WpV0EIDLNoZWkBNXY59bLndRkVVVvgmTADRNhy9bo8molXXY8QqnP7AsUCuhnYbWUGFzEHKdAPmUO+1c0ECGLxvycNirXUbCWdn0ain/OV/wRjXVmxAAdzk0Z6tzPh8Bdm9Nr/5wlCrvjY9F2An2fMy1GqMCBxBuTaetyEp4BLUUBDotm2olCKQVDsfJxqLERgdd2sikEgKIdMzZbDZtRACCJXXxmFX8Inu1EtwxxggG8zLws3Ozd0EvnN2q4/McK2ejAmebuVoJLp+wgtN0pvY/3Yx9zXLNXoJ0+A/1Jji34zUpT39gmTPtXCZinkTCdmQeLrvpNF2r6VPupBH2eFNYSTyPVbTF880dTriirng+v4rv3Jqe/eH4Vd6FrZ7vGF81IEM3gGQZ0LpjuP/28c18UeT3zz8BEACfLKfZb594IZmvD/Q95q4sz9r/olgKrG1SpPXHQEtRdpGKj0skaIuMKYp64sD2GMzpQkm5OG0veI7bzVs6mRNdPztD42Y+LlqrTP/5cmuff2AFkb4btBUDAPR+UwFOZCkA5GXsFkvLZVgGGH7+oRvDMrDzcYcTG1jmMPFyu+tBu5ykdADgsh1lx/jsPuUira9BQJLY9UdcW2oHKOmqHCO/F4vOoNjbK75Da27pDw+u8tE5hufTB4M7EOwI9vTF6tzUaEoUsPG6NpHrSejm3r8V827hgndnWzMjhAAo/EkpBgMAAJSUT9J37apijNvV20Aq7+r4jG5K/FSncl3NnM1mo9IipijFMqBV378hCOLtx750075ePO9q7MfjxAaW7Rks4rPv7Pa2lev2J8+W2gU2Vb4K3n3NVR1ffh3tiOfO/WHfKj8CD/d8ert49RMixSRPsRIPd0pfc03HSqnrtqIUuJ/Vst1DKQBAXu8FXlC8xMPdYHmEBWndwT0p2gYCyBgbQLMsdn0YDAAAUGIuSd+1y+169TaQzAlupoG09uA+kLrKiJblzOcESCnXb8P18cycTqfmTO/aftPf2I/BqQ0sW3C4vcEebs+33P/f3v2Dp6m1AQB/eZ77PHAnzASd5E7SKd5JNtm0k3aKnbSTbOFOtZubZop3Kp1ki5niN9VOcifpJJ0kkzhJpuLEyeQ3+A+tf2JiEhPf39QSAoejhzcHXngZXhLgxpxP11v1Sd2VqGpZ9ro4m/Y98MDHG9nm+7DtIT+Ge0U+4tqWZVmmUdcUOfr+EhJVPcMD8OlCir3+nFZ003YcxzJqZbViE2IVcgXdsB3HNuuGC4I06tIQz9NgaXXTMowtcqj4dDFBX/+TVnTDsi1DyyXPemG1LI+/bMSxbkCQ8T1CCI0xUSXDDS4/nvW4zPLAB0woysONUbM8IG5DzZz1xstFJRP+8eEN9efR0dGfFBMS02XDg5WDfZtmeUZOCIlK8BmzPT6xrDMLe807hD3imlOWQ9bsV0ircfqnmlFrhmU2NEUS0gas+KQ29O0MI5cr8dvrH4MdHPjM+u/Dww75UWaBW94e9Nungck1zUUS+S/BZ1f8zkU+HqYnP43nL7rDYf8qHxsto7lY/qLrT1f+kggDALCju9T9ixjQqdGTRsF/D4dD/1sikLbit6vZ8RaBO06VmrMWjDKMTp/46RGEntPqATs2HreLD7oGR5nfqWaPWQAANnLyqRRnuXzbH/qdUgTYVLXd7Xa73U7zS4IN/MaSwb4wcv32KQfh0mS3oxSZ8TgepZ2OHi3c+xPLGt1qKkwDe3y6efX5wwQAOvHNX7vfX61SalRzl+Zi2WrHX/VJzR/aXN+2stxC0kjnPE4DRKafy8oG3P3TXPV92Mkhb23jiHh1lWntgvBWT7YdbfldfIReoUcbsMRShb/ruY5TFkcLvEby6J1b7Vu5R89BQOjeDq4yra3XeuGcuvyKDkJoK0xI5KFXr9Qt1/M816oV1O8QU2QMe+hle11Vioil6W68jIEPod0QcvUrWynk/n4zAACai6XPW5oiPHezEHqYV3e1E6HDgwMWoaCDu9qJEEIIrYeRDyGE0GHByIcQQuiwYORDCCF0WDDyIYQQOix7FfmCBSQXEVMRQvLyqopoJ4ilCoysY01fhNArt23kI6bCU0Jhu/fz3X3rBG6Xv6rbaxR1VyrIIRidoSmK4jP1wEnaqYgUrz5S+d65Nj5mDxAzF5pWvJ4t46fLxsceINXcHbWKiSoZ/r9ixd68KkIIvWDbz/k8cuf6WrvjNirfIalKo3eoEtcDgJtLpRh82S3ZXbWN9R6zBwghQLzFZR4Qb/zqeeJ6wKaqrfZELc3vrFViTgn3dO0J/n5ACKHns1dXO1fyTO0/iGakwMvDw9mT8M1XRXOerVHPh+GjMzstSiEkk9xNvebscJMIIbRvdhX53EY5LYYoiqIoRpCV2uyyG7H1nDQqH8xHM5pFAIitK7IYYiiKohheUurO+o0Tu25BWI4Gq2YwUbWSon8W1OW3/la1x9UlRlDruiLxFEVRvKQ2XM/SMtEQRVGMmNGD1wudeiEpMkuO6cE98GS2bBUjJEXoNR6/OhZCCD2fnUQ+YirRd59tqdJsd9pNTXa/fpByDQ8AwGvkpI81yOitdrtZll1dswi4pgnJYt3q9rttPe1+fZ+rrT3VepY1AGGxQD2frJSPb/+nFn8LJWvaA0Bue/++L3q5erfbOhesf9+JgqzzRbPfucqRy48Z3ZluRHqvM6rR7fe7DZWpfZBX13zetgeexj1axQhRDhzDweudCKFXbMviRn7rhIVxOaiJXxdxgEipO13Q+RQGiF30R9WdFipDLep8Ck822K8eAyS+LZZj8tunXLDQvd86YSFy3h0X44PYl+5oM2y+5a9vz2gX0wb5zRQN7Mm3cWmo7nkEID7a/6+rONCJaempYbcUATbb8h+hB4KH2jyhF4uoTZb502MPGq+8s1Z1v0SCJbfQi7B6wCJ0iDaOiB3M+Yhj2MBKgcIlQlKiwTFdQhzDAU5anK0BsWtqMjq61Pb2rLcpNYV4BGDZ7SxGKlYS9I9CwQhc8lzTnvH/eWHysxAfgpAwuVUW4kPjnQFxGjbcfn9/NEmh/OvzNcCKVt6jB+5h1gFs6mKa4WIUxBXr369VDMMAPE2mEEIIPY9dXO1cF7eW/chrZKIfdEZpOP5wOOyUwr+vMo8JrTwb85lKMTK4VLRAKv7OUjwD88zhcDgcejVpeTrJtj2wGsMw4LlzOZqEeLfA8IE9M7w4S3AJ/baNB7WKEALAYJUnhNArtoPIxwiSAANzlhVBnIZ5S0eTAsPwkgA35nzCBHHq5i2XKeaio7P5xofTmZAYgoG7ImVfVLUse12cTfvWtGeLg+IlAQaW4dxp5S17YN2WkiIMGnrgVqBn6Saw95g13qtVxLM9YHkeQx9C6PW6V+QjrjllOYRPFxP09T9pRTcs2zK0XPKsF1bLcghASKtx+qeaUWuGZTY0RRLSBoSiPNwYNcsD4jbUzFlv0/54MUqDsyp6MHK5Er+9/jGYrr66PXfHpwsp9vpzWtFN23Ecy6iV1co0M/JhPUAA7LJIMUteScOnK3nu5qssq1rdMIy6psjJy0GsXFwx25zz4FYBEMe6AUHe6aMSCCG0Z7a8Pei3T+cvTtKJb/5w6Ler2ViYBgAA7jhVas4yJH61SqkICwBAc7FsteMPh36nmj1mAQDYyMmnUpydZLhcxIBONRczXMYJGbFqf9yGVpZbSM/onMdpgEhpkhqysj3zu/DbpxyEp7/16yoezO7wOxf5+HgjNBeJ5y+6O+uBVpYF9mTJoQ6Hw36zdHLMjTbFRuL5i85sNb+V5SD8qb0kC+jhrRqnDHGnv20e7bfVAxahQ7RxRLyQmuyuHn2j8FduI73VxG1fefW0kCEVp5HbQebLLtkF4a2ebDtaFCd9L8neDViEntXGEfHHkzXlQfhkIQ45zfDS6SOKeu7WPFSnFLHkmrlvYQ/A1mu9cE4VMewhhF6zFzLnG9VqkO2Ka2RexaxvHxFLFSSr7Bj7F5LRens4YBF6RhtHxIuJfAihVXDAIhR0/6ud1Mu/qIjQ4cABi9Dd4Z+KCCGEDsvLqFKEEEII7QpGPoQQQocFIx9CCKHDgpEPIYTQYcHIhxBC6LBg5EMIIXRYMPIhhBA6LP8HOnQXR1WukvYAAAAASUVORK5CYII=)\n",
    "\n",
    "**assumindo as seguintes premissas**:\n",
    "\n",
    "- Nenhum atributo admite valor nulo.\n",
    "- Apenas as seguintes chaves primárias são numéricas: `Cliente.CodCli`, `Consultor.CPF`"
   ]
  },
  {
   "cell_type": "markdown",
   "metadata": {
    "id": "HHqaFTiMJkYb"
   },
   "source": [
    "# Download dos dados da empresa"
   ]
  },
  {
   "cell_type": "code",
   "execution_count": 16,
   "metadata": {
    "id": "5JraiTIrJNqx"
   },
   "outputs": [],
   "source": [
    "!curl -s -o /tmp/EX4.sql https://raw.githubusercontent.com/filipefbn/jupyter_intro_class_ibd/master/data/exercicio.sql"
   ]
  },
  {
   "cell_type": "markdown",
   "metadata": {
    "id": "DUpJoweeJqJ1"
   },
   "source": [
    "# Carregando o banco"
   ]
  },
  {
   "cell_type": "code",
   "execution_count": 17,
   "metadata": {
    "colab": {
     "base_uri": "https://localhost:8080/",
     "height": 34
    },
    "id": "D9YtyUIKJoBD",
    "outputId": "f3f28c13-1ff8-41cb-8134-770c60cbec4d"
   },
   "outputs": [
    {
     "data": {
      "text/plain": [
       "<sqlite3.Cursor at 0x7fb3a57b3030>"
      ]
     },
     "execution_count": 17,
     "metadata": {},
     "output_type": "execute_result"
    }
   ],
   "source": [
    "conn = sqlite3.connect('/tmp/consult.db')\n",
    "cursor = conn.cursor()\n",
    "\n",
    "f = io.open('/tmp/EX4.sql', 'r', encoding='utf-8')\n",
    "sql = f.read()\n",
    "cursor.executescript(sql)"
   ]
  },
  {
   "cell_type": "markdown",
   "metadata": {
    "id": "U9Z3mHDKJ5L4"
   },
   "source": [
    "# Consultas\n",
    "\n",
    "Responda as perguntas abaixo através de consultas SQL no banco de dados carregado. Caso tenha alguma dúvida sobre `sqlite3` e `pandas`, revisite as **seções 2 e 3**  do [Tutorial: SQL, Google Colab e Jupyter Notebooks](https://colab.research.google.com/drive/1DnDPcgdq6YcBI3AnzRRCfMRvp2nU3vAV?usp=sharing).\n",
    "\n",
    "O formato da célula de resposta pode ser visto na resposta da consulta exemplo 0.\n",
    "\n",
    "**Você pode usar mais de uma célula para responder, desde que a última célula antes da próxima consulta contenha a resposta final no formato mostrado no exemplo 0.** "
   ]
  },
  {
   "cell_type": "markdown",
   "metadata": {
    "id": "ieEwvm0EgnKV"
   },
   "source": [
    "## 0. [exemplo/não alterar]  Qual o nome e o número de viagens dos 5 consultores que mais viajaram a trabalho pela empresa IBD?"
   ]
  },
  {
   "cell_type": "code",
   "execution_count": 21,
   "metadata": {
    "colab": {
     "base_uri": "https://localhost:8080/",
     "height": 204
    },
    "id": "F0uXeBuLjIjG",
    "outputId": "e586369c-d8cf-41f4-eb48-1e7a1fc48de3"
   },
   "outputs": [
    {
     "data": {
      "text/html": [
       "<div>\n",
       "<style scoped>\n",
       "    .dataframe tbody tr th:only-of-type {\n",
       "        vertical-align: middle;\n",
       "    }\n",
       "\n",
       "    .dataframe tbody tr th {\n",
       "        vertical-align: top;\n",
       "    }\n",
       "\n",
       "    .dataframe thead th {\n",
       "        text-align: right;\n",
       "    }\n",
       "</style>\n",
       "<table border=\"1\" class=\"dataframe\">\n",
       "  <thead>\n",
       "    <tr style=\"text-align: right;\">\n",
       "      <th></th>\n",
       "      <th>Nome</th>\n",
       "      <th>NViagens</th>\n",
       "    </tr>\n",
       "  </thead>\n",
       "  <tbody>\n",
       "    <tr>\n",
       "      <th>0</th>\n",
       "      <td>Melissa Carvalho Cunha</td>\n",
       "      <td>4</td>\n",
       "    </tr>\n",
       "    <tr>\n",
       "      <th>1</th>\n",
       "      <td>Rodrigo Araujo Cardoso</td>\n",
       "      <td>3</td>\n",
       "    </tr>\n",
       "    <tr>\n",
       "      <th>2</th>\n",
       "      <td>Larissa Fernandes Araujo</td>\n",
       "      <td>3</td>\n",
       "    </tr>\n",
       "    <tr>\n",
       "      <th>3</th>\n",
       "      <td>Diogo Cavalcanti Rocha</td>\n",
       "      <td>2</td>\n",
       "    </tr>\n",
       "    <tr>\n",
       "      <th>4</th>\n",
       "      <td>Lucas Fernandes Costa</td>\n",
       "      <td>1</td>\n",
       "    </tr>\n",
       "  </tbody>\n",
       "</table>\n",
       "</div>"
      ],
      "text/plain": [
       "                       Nome  NViagens\n",
       "0    Melissa Carvalho Cunha         4\n",
       "1    Rodrigo Araujo Cardoso         3\n",
       "2  Larissa Fernandes Araujo         3\n",
       "3    Diogo Cavalcanti Rocha         2\n",
       "4     Lucas Fernandes Costa         1"
      ]
     },
     "execution_count": 21,
     "metadata": {},
     "output_type": "execute_result"
    }
   ],
   "source": [
    "query = \"\"\"\n",
    "SELECT \n",
    "  C.NomeCon as Nome, COUNT(C.CPF) as NViagens\n",
    "FROM \n",
    "  Consultor as C\n",
    "INNER JOIN Viagem as V\n",
    "  ON C.CPF = V.CPF\n",
    "GROUP BY\n",
    "  C.CPF\n",
    "ORDER BY\n",
    "  NViagens DESC\n",
    "LIMIT 5\n",
    "\"\"\"\n",
    "\n",
    "df = pd.read_sql_query(query, conn)\n",
    "df"
   ]
  },
  {
   "cell_type": "markdown",
   "metadata": {
    "id": "Vs4haqL9J8DA"
   },
   "source": [
    "## 1. Que consultores (CPF, nome e estado de nascimento) não nasceram em São Paulo (SP)?"
   ]
  },
  {
   "cell_type": "code",
   "execution_count": 23,
   "metadata": {
    "id": "nkOg0lvpJvT0"
   },
   "outputs": [
    {
     "data": {
      "text/html": [
       "<div>\n",
       "<style scoped>\n",
       "    .dataframe tbody tr th:only-of-type {\n",
       "        vertical-align: middle;\n",
       "    }\n",
       "\n",
       "    .dataframe tbody tr th {\n",
       "        vertical-align: top;\n",
       "    }\n",
       "\n",
       "    .dataframe thead th {\n",
       "        text-align: right;\n",
       "    }\n",
       "</style>\n",
       "<table border=\"1\" class=\"dataframe\">\n",
       "  <thead>\n",
       "    <tr style=\"text-align: right;\">\n",
       "      <th></th>\n",
       "      <th>CPF</th>\n",
       "      <th>Nome</th>\n",
       "      <th>Estado</th>\n",
       "    </tr>\n",
       "  </thead>\n",
       "  <tbody>\n",
       "    <tr>\n",
       "      <th>0</th>\n",
       "      <td>44434353608</td>\n",
       "      <td>Melissa Carvalho Cunha</td>\n",
       "      <td>SP</td>\n",
       "    </tr>\n",
       "    <tr>\n",
       "      <th>1</th>\n",
       "      <td>62465487841</td>\n",
       "      <td>Lucas Fernandes Costa</td>\n",
       "      <td>SP</td>\n",
       "    </tr>\n",
       "    <tr>\n",
       "      <th>2</th>\n",
       "      <td>34646193892</td>\n",
       "      <td>Rodrigo Araujo Cardoso</td>\n",
       "      <td>SP</td>\n",
       "    </tr>\n",
       "  </tbody>\n",
       "</table>\n",
       "</div>"
      ],
      "text/plain": [
       "           CPF                    Nome Estado\n",
       "0  44434353608  Melissa Carvalho Cunha     SP\n",
       "1  62465487841   Lucas Fernandes Costa     SP\n",
       "2  34646193892  Rodrigo Araujo Cardoso     SP"
      ]
     },
     "execution_count": 23,
     "metadata": {},
     "output_type": "execute_result"
    }
   ],
   "source": [
    "query1 = \"\"\"\n",
    "        SELECT CPF, NomeCon as Nome, UFNascCon as Estado\n",
    "        FROM Consultor\n",
    "        WHERE UFNascCon=\"SP\"\n",
    "        \"\"\"\n",
    "df = pd.read_sql_query(query1, conn)\n",
    "df"
   ]
  },
  {
   "cell_type": "markdown",
   "metadata": {
    "id": "hHygqX9KKElG"
   },
   "source": [
    "## 2. Que projetos (sigla e nome) não são do cliente \"Facebook\"?"
   ]
  },
  {
   "cell_type": "code",
   "execution_count": 32,
   "metadata": {
    "id": "We9-q7KpKIiO"
   },
   "outputs": [
    {
     "data": {
      "text/html": [
       "<div>\n",
       "<style scoped>\n",
       "    .dataframe tbody tr th:only-of-type {\n",
       "        vertical-align: middle;\n",
       "    }\n",
       "\n",
       "    .dataframe tbody tr th {\n",
       "        vertical-align: top;\n",
       "    }\n",
       "\n",
       "    .dataframe thead th {\n",
       "        text-align: right;\n",
       "    }\n",
       "</style>\n",
       "<table border=\"1\" class=\"dataframe\">\n",
       "  <thead>\n",
       "    <tr style=\"text-align: right;\">\n",
       "      <th></th>\n",
       "      <th>Sigla</th>\n",
       "      <th>Nome</th>\n",
       "    </tr>\n",
       "  </thead>\n",
       "  <tbody>\n",
       "    <tr>\n",
       "      <th>0</th>\n",
       "      <td>NMT</td>\n",
       "      <td>Neural Machine Translation (Chinês para Portug...</td>\n",
       "    </tr>\n",
       "    <tr>\n",
       "      <th>1</th>\n",
       "      <td>Search</td>\n",
       "      <td>Otimização Sistema de Busca</td>\n",
       "    </tr>\n",
       "    <tr>\n",
       "      <th>2</th>\n",
       "      <td>Spam</td>\n",
       "      <td>Detecção de Spam (Gmail)</td>\n",
       "    </tr>\n",
       "    <tr>\n",
       "      <th>3</th>\n",
       "      <td>Fake</td>\n",
       "      <td>Detecção de Fake News</td>\n",
       "    </tr>\n",
       "    <tr>\n",
       "      <th>4</th>\n",
       "      <td>SDC</td>\n",
       "      <td>Self Driving Car</td>\n",
       "    </tr>\n",
       "    <tr>\n",
       "      <th>5</th>\n",
       "      <td>Pay</td>\n",
       "      <td>Sistema de Pagamento</td>\n",
       "    </tr>\n",
       "    <tr>\n",
       "      <th>6</th>\n",
       "      <td>RecSys</td>\n",
       "      <td>Sistema de Recomendação</td>\n",
       "    </tr>\n",
       "    <tr>\n",
       "      <th>7</th>\n",
       "      <td>Fraud</td>\n",
       "      <td>Detecção de Fraude</td>\n",
       "    </tr>\n",
       "  </tbody>\n",
       "</table>\n",
       "</div>"
      ],
      "text/plain": [
       "    Sigla                                               Nome\n",
       "0     NMT  Neural Machine Translation (Chinês para Portug...\n",
       "1  Search                        Otimização Sistema de Busca\n",
       "2    Spam                           Detecção de Spam (Gmail)\n",
       "3    Fake                              Detecção de Fake News\n",
       "4     SDC                                   Self Driving Car\n",
       "5     Pay                               Sistema de Pagamento\n",
       "6  RecSys                            Sistema de Recomendação\n",
       "7   Fraud                                 Detecção de Fraude"
      ]
     },
     "execution_count": 32,
     "metadata": {},
     "output_type": "execute_result"
    }
   ],
   "source": [
    "query2 = \"\"\"\n",
    "        SELECT Sigla as Sigla, NomePro as Nome\n",
    "        FROM Projeto\n",
    "        INNER JOIN Cliente\n",
    "            ON Projeto.CodCli = Cliente.CodCli\n",
    "            WHERE Cliente.NomeCli <> \"Facebook\"\n",
    "        \"\"\"\n",
    "df = pd.read_sql_query(query2, conn)\n",
    "df"
   ]
  },
  {
   "cell_type": "markdown",
   "metadata": {
    "id": "yWKeWYgBKA6-"
   },
   "source": [
    "## 3. Para que UFs viajaram os consultores que participam do projeto de sigla \"RecSys\"?"
   ]
  },
  {
   "cell_type": "code",
   "execution_count": 40,
   "metadata": {
    "id": "gqO8Z3UTKMeZ"
   },
   "outputs": [
    {
     "data": {
      "text/html": [
       "<div>\n",
       "<style scoped>\n",
       "    .dataframe tbody tr th:only-of-type {\n",
       "        vertical-align: middle;\n",
       "    }\n",
       "\n",
       "    .dataframe tbody tr th {\n",
       "        vertical-align: top;\n",
       "    }\n",
       "\n",
       "    .dataframe thead th {\n",
       "        text-align: right;\n",
       "    }\n",
       "</style>\n",
       "<table border=\"1\" class=\"dataframe\">\n",
       "  <thead>\n",
       "    <tr style=\"text-align: right;\">\n",
       "      <th></th>\n",
       "      <th>UF</th>\n",
       "    </tr>\n",
       "  </thead>\n",
       "  <tbody>\n",
       "    <tr>\n",
       "      <th>0</th>\n",
       "      <td>MG</td>\n",
       "    </tr>\n",
       "    <tr>\n",
       "      <th>1</th>\n",
       "      <td>SP</td>\n",
       "    </tr>\n",
       "  </tbody>\n",
       "</table>\n",
       "</div>"
      ],
      "text/plain": [
       "   UF\n",
       "0  MG\n",
       "1  SP"
      ]
     },
     "execution_count": 40,
     "metadata": {},
     "output_type": "execute_result"
    }
   ],
   "source": [
    "query3 = \"\"\"\n",
    "        SELECT Local.UFLoc as UF\n",
    "        FROM Local\n",
    "        INNER JOIN Viagem\n",
    "            ON Local.NomeLoc = Viagem.Destino\n",
    "            INNER JOIN Consultor\n",
    "                ON Viagem.CPF = Consultor.CPF\n",
    "                INNER JOIN Projeto\n",
    "                    ON Viagem.sigla = Projeto.sigla\n",
    "                    WHERE Projeto.sigla = \"RecSys\"\n",
    "        GROUP BY Local.UFLoc\n",
    "        \"\"\"\n",
    "df = pd.read_sql_query(query3, conn)\n",
    "df"
   ]
  },
  {
   "cell_type": "markdown",
   "metadata": {
    "id": "PNNLMuHCKM9U"
   },
   "source": [
    "## 4. Que projetos (sigla e nome) não têm equipe?"
   ]
  },
  {
   "cell_type": "code",
   "execution_count": 56,
   "metadata": {
    "id": "sV_6Wp-bKOCM"
   },
   "outputs": [
    {
     "data": {
      "text/html": [
       "<div>\n",
       "<style scoped>\n",
       "    .dataframe tbody tr th:only-of-type {\n",
       "        vertical-align: middle;\n",
       "    }\n",
       "\n",
       "    .dataframe tbody tr th {\n",
       "        vertical-align: top;\n",
       "    }\n",
       "\n",
       "    .dataframe thead th {\n",
       "        text-align: right;\n",
       "    }\n",
       "</style>\n",
       "<table border=\"1\" class=\"dataframe\">\n",
       "  <thead>\n",
       "    <tr style=\"text-align: right;\">\n",
       "      <th></th>\n",
       "      <th>Sigla</th>\n",
       "      <th>Nome</th>\n",
       "    </tr>\n",
       "  </thead>\n",
       "  <tbody>\n",
       "    <tr>\n",
       "      <th>0</th>\n",
       "      <td>Fake</td>\n",
       "      <td>Detecção de Fake News</td>\n",
       "    </tr>\n",
       "    <tr>\n",
       "      <th>1</th>\n",
       "      <td>SDC</td>\n",
       "      <td>Self Driving Car</td>\n",
       "    </tr>\n",
       "    <tr>\n",
       "      <th>2</th>\n",
       "      <td>Search</td>\n",
       "      <td>Otimização Sistema de Busca</td>\n",
       "    </tr>\n",
       "  </tbody>\n",
       "</table>\n",
       "</div>"
      ],
      "text/plain": [
       "    Sigla                         Nome\n",
       "0    Fake        Detecção de Fake News\n",
       "1     SDC             Self Driving Car\n",
       "2  Search  Otimização Sistema de Busca"
      ]
     },
     "execution_count": 56,
     "metadata": {},
     "output_type": "execute_result"
    }
   ],
   "source": [
    "query4 = \"\"\"\n",
    "        SELECT Projeto.Sigla as Sigla, NomePro as Nome\n",
    "        FROM Projeto\n",
    "        LEFT JOIN Equipe\n",
    "            ON Projeto.Sigla = Equipe.Sigla\n",
    "            WHERE Equipe.Sigla IS NULL\n",
    "        GROUP BY Projeto.Sigla\n",
    "        \"\"\"\n",
    "df = pd.read_sql_query(query4, conn)\n",
    "df"
   ]
  },
  {
   "cell_type": "markdown",
   "metadata": {
    "id": "_ZFvK4reKPUM"
   },
   "source": [
    "## 5. Que projetos (sigla e nome) não têm em sua equipe consultores nascidos antes de 1987?\n"
   ]
  },
  {
   "cell_type": "code",
   "execution_count": 51,
   "metadata": {
    "id": "VzAT0QlbKRjJ"
   },
   "outputs": [
    {
     "data": {
      "text/html": [
       "<div>\n",
       "<style scoped>\n",
       "    .dataframe tbody tr th:only-of-type {\n",
       "        vertical-align: middle;\n",
       "    }\n",
       "\n",
       "    .dataframe tbody tr th {\n",
       "        vertical-align: top;\n",
       "    }\n",
       "\n",
       "    .dataframe thead th {\n",
       "        text-align: right;\n",
       "    }\n",
       "</style>\n",
       "<table border=\"1\" class=\"dataframe\">\n",
       "  <thead>\n",
       "    <tr style=\"text-align: right;\">\n",
       "      <th></th>\n",
       "      <th>Sigla</th>\n",
       "      <th>Nome</th>\n",
       "    </tr>\n",
       "  </thead>\n",
       "  <tbody>\n",
       "    <tr>\n",
       "      <th>0</th>\n",
       "      <td>Pay</td>\n",
       "      <td>Sistema de Pagamento</td>\n",
       "    </tr>\n",
       "    <tr>\n",
       "      <th>1</th>\n",
       "      <td>RecSys</td>\n",
       "      <td>Sistema de Recomendação</td>\n",
       "    </tr>\n",
       "    <tr>\n",
       "      <th>2</th>\n",
       "      <td>WhatsApp</td>\n",
       "      <td>Cliente desktop para o WhatsApp</td>\n",
       "    </tr>\n",
       "  </tbody>\n",
       "</table>\n",
       "</div>"
      ],
      "text/plain": [
       "      Sigla                             Nome\n",
       "0       Pay             Sistema de Pagamento\n",
       "1    RecSys          Sistema de Recomendação\n",
       "2  WhatsApp  Cliente desktop para o WhatsApp"
      ]
     },
     "execution_count": 51,
     "metadata": {},
     "output_type": "execute_result"
    }
   ],
   "source": [
    "query5 = \"\"\"\n",
    "        SELECT Projeto.Sigla as Sigla, NomePro as Nome\n",
    "        FROM Projeto\n",
    "        LEFT JOIN Equipe\n",
    "            ON Projeto.Sigla = Equipe.Sigla\n",
    "            INNER JOIN Consultor\n",
    "                ON Equipe.CPF = Consultor.CPF\n",
    "                WHERE Consultor.DataNascCon < \"1987\"\n",
    "        GROUP BY Projeto.Sigla\n",
    "        \"\"\"\n",
    "df = pd.read_sql_query(query5, conn)\n",
    "df"
   ]
  },
  {
   "cell_type": "markdown",
   "metadata": {
    "id": "ftO3TsxcKUIT"
   },
   "source": [
    "## 6. Que consultores (CPF e nome) viajaram por seu estado natal (origem ou destino)?"
   ]
  },
  {
   "cell_type": "code",
   "execution_count": 54,
   "metadata": {
    "id": "kEa5ZGJaKVUq"
   },
   "outputs": [
    {
     "data": {
      "text/html": [
       "<div>\n",
       "<style scoped>\n",
       "    .dataframe tbody tr th:only-of-type {\n",
       "        vertical-align: middle;\n",
       "    }\n",
       "\n",
       "    .dataframe tbody tr th {\n",
       "        vertical-align: top;\n",
       "    }\n",
       "\n",
       "    .dataframe thead th {\n",
       "        text-align: right;\n",
       "    }\n",
       "</style>\n",
       "<table border=\"1\" class=\"dataframe\">\n",
       "  <thead>\n",
       "    <tr style=\"text-align: right;\">\n",
       "      <th></th>\n",
       "      <th>CPF</th>\n",
       "      <th>Nome</th>\n",
       "    </tr>\n",
       "  </thead>\n",
       "  <tbody>\n",
       "    <tr>\n",
       "      <th>0</th>\n",
       "      <td>17787063122</td>\n",
       "      <td>Larissa Fernandes Araujo</td>\n",
       "    </tr>\n",
       "    <tr>\n",
       "      <th>1</th>\n",
       "      <td>29762035631</td>\n",
       "      <td>Caio Dias Ribeiro</td>\n",
       "    </tr>\n",
       "    <tr>\n",
       "      <th>2</th>\n",
       "      <td>34646193892</td>\n",
       "      <td>Rodrigo Araujo Cardoso</td>\n",
       "    </tr>\n",
       "    <tr>\n",
       "      <th>3</th>\n",
       "      <td>44434353608</td>\n",
       "      <td>Melissa Carvalho Cunha</td>\n",
       "    </tr>\n",
       "    <tr>\n",
       "      <th>4</th>\n",
       "      <td>62465487841</td>\n",
       "      <td>Lucas Fernandes Costa</td>\n",
       "    </tr>\n",
       "  </tbody>\n",
       "</table>\n",
       "</div>"
      ],
      "text/plain": [
       "           CPF                      Nome\n",
       "0  17787063122  Larissa Fernandes Araujo\n",
       "1  29762035631         Caio Dias Ribeiro\n",
       "2  34646193892    Rodrigo Araujo Cardoso\n",
       "3  44434353608    Melissa Carvalho Cunha\n",
       "4  62465487841     Lucas Fernandes Costa"
      ]
     },
     "execution_count": 54,
     "metadata": {},
     "output_type": "execute_result"
    }
   ],
   "source": [
    "query6 = \"\"\"\n",
    "        SELECT CONSULTOR.CPF, NOMECON as Nome\n",
    "        FROM CONSULTOR\n",
    "                 INNER JOIN VIAGEM\n",
    "                            ON CONSULTOR.CPF = VIAGEM.CPF\n",
    "                 INNER JOIN LOCAL\n",
    "                            ON DESTINO = NOMELOC OR ORIGEM = NOMELOC\n",
    "        WHERE (UFNASCCON = UFLOC\n",
    "            OR UFNASCCON = UFLOC)\n",
    "        GROUP BY CONSULTOR.CPF\n",
    "        \"\"\"\n",
    "df = pd.read_sql_query(query6, conn)\n",
    "df"
   ]
  },
  {
   "cell_type": "markdown",
   "metadata": {
    "id": "EcOoa5QYKXV7"
   },
   "source": [
    "## 7. Para que locais não houve nenhuma viagem?\n",
    "\n"
   ]
  },
  {
   "cell_type": "code",
   "execution_count": 57,
   "metadata": {
    "id": "e7meUevKKZMI"
   },
   "outputs": [
    {
     "data": {
      "text/html": [
       "<div>\n",
       "<style scoped>\n",
       "    .dataframe tbody tr th:only-of-type {\n",
       "        vertical-align: middle;\n",
       "    }\n",
       "\n",
       "    .dataframe tbody tr th {\n",
       "        vertical-align: top;\n",
       "    }\n",
       "\n",
       "    .dataframe thead th {\n",
       "        text-align: right;\n",
       "    }\n",
       "</style>\n",
       "<table border=\"1\" class=\"dataframe\">\n",
       "  <thead>\n",
       "    <tr style=\"text-align: right;\">\n",
       "      <th></th>\n",
       "      <th>Local</th>\n",
       "    </tr>\n",
       "  </thead>\n",
       "  <tbody>\n",
       "    <tr>\n",
       "      <th>0</th>\n",
       "      <td>Amazon</td>\n",
       "    </tr>\n",
       "    <tr>\n",
       "      <th>1</th>\n",
       "      <td>Netflix</td>\n",
       "    </tr>\n",
       "    <tr>\n",
       "      <th>2</th>\n",
       "      <td>Spotify</td>\n",
       "    </tr>\n",
       "  </tbody>\n",
       "</table>\n",
       "</div>"
      ],
      "text/plain": [
       "     Local\n",
       "0   Amazon\n",
       "1  Netflix\n",
       "2  Spotify"
      ]
     },
     "execution_count": 57,
     "metadata": {},
     "output_type": "execute_result"
    }
   ],
   "source": [
    "query7 = \"\"\"\n",
    "        SELECT NOMELOC as Local\n",
    "        FROM LOCAL\n",
    "                 LEFT JOIN VIAGEM\n",
    "                           ON NOMELOC = VIAGEM.ORIGEM OR NOMELOC = VIAGEM.DESTINO\n",
    "        WHERE VIAGEM.ORIGEM IS NULL\n",
    "        GROUP BY NOMELOC\n",
    "        \"\"\"\n",
    "df = pd.read_sql_query(query7, conn)\n",
    "df"
   ]
  },
  {
   "cell_type": "markdown",
   "metadata": {
    "id": "WL0BE9ABKaRY"
   },
   "source": [
    "## 8. Em que projetos (sigla e nome) foram realizadas viagens para a California (CA) desde o início de 2019?"
   ]
  },
  {
   "cell_type": "code",
   "execution_count": 58,
   "metadata": {
    "id": "kk0y981_KbRK"
   },
   "outputs": [
    {
     "data": {
      "text/html": [
       "<div>\n",
       "<style scoped>\n",
       "    .dataframe tbody tr th:only-of-type {\n",
       "        vertical-align: middle;\n",
       "    }\n",
       "\n",
       "    .dataframe tbody tr th {\n",
       "        vertical-align: top;\n",
       "    }\n",
       "\n",
       "    .dataframe thead th {\n",
       "        text-align: right;\n",
       "    }\n",
       "</style>\n",
       "<table border=\"1\" class=\"dataframe\">\n",
       "  <thead>\n",
       "    <tr style=\"text-align: right;\">\n",
       "      <th></th>\n",
       "      <th>Sigla</th>\n",
       "      <th>Nome</th>\n",
       "    </tr>\n",
       "  </thead>\n",
       "  <tbody>\n",
       "    <tr>\n",
       "      <th>0</th>\n",
       "      <td>VR</td>\n",
       "      <td>Hardware para Oculus VR</td>\n",
       "    </tr>\n",
       "    <tr>\n",
       "      <th>1</th>\n",
       "      <td>WhatsApp</td>\n",
       "      <td>Cliente desktop para o WhatsApp</td>\n",
       "    </tr>\n",
       "  </tbody>\n",
       "</table>\n",
       "</div>"
      ],
      "text/plain": [
       "      Sigla                             Nome\n",
       "0        VR          Hardware para Oculus VR\n",
       "1  WhatsApp  Cliente desktop para o WhatsApp"
      ]
     },
     "execution_count": 58,
     "metadata": {},
     "output_type": "execute_result"
    }
   ],
   "source": [
    "query8 = \"\"\"\n",
    "        SELECT PROJETO.SIGLA as Sigla, NOMEPRO as Nome\n",
    "        FROM PROJETO\n",
    "                 INNER JOIN VIAGEM\n",
    "                            ON PROJETO.SIGLA = VIAGEM.SIGLA\n",
    "                 INNER JOIN LOCAL\n",
    "                            ON NOMELOC = VIAGEM.ORIGEM OR NOMELOC = VIAGEM.DESTINO\n",
    "        WHERE UFLOC = 'CA'\n",
    "          AND DATAVIAGEM > '2019'\n",
    "        GROUP BY PROJETO.SIGLA\n",
    "        \"\"\"\n",
    "df = pd.read_sql_query(query8, conn)\n",
    "df"
   ]
  },
  {
   "cell_type": "markdown",
   "metadata": {
    "id": "mESHcL4FKgHB"
   },
   "source": [
    "## 9. Que consultores (CPF e nome) viajaram por um projeto de cuja equipe não fazem parte?"
   ]
  },
  {
   "cell_type": "code",
   "execution_count": 60,
   "metadata": {
    "id": "knvTJAFPKjWq"
   },
   "outputs": [
    {
     "data": {
      "text/html": [
       "<div>\n",
       "<style scoped>\n",
       "    .dataframe tbody tr th:only-of-type {\n",
       "        vertical-align: middle;\n",
       "    }\n",
       "\n",
       "    .dataframe tbody tr th {\n",
       "        vertical-align: top;\n",
       "    }\n",
       "\n",
       "    .dataframe thead th {\n",
       "        text-align: right;\n",
       "    }\n",
       "</style>\n",
       "<table border=\"1\" class=\"dataframe\">\n",
       "  <thead>\n",
       "    <tr style=\"text-align: right;\">\n",
       "      <th></th>\n",
       "      <th>CPF</th>\n",
       "      <th>Nome</th>\n",
       "    </tr>\n",
       "  </thead>\n",
       "  <tbody>\n",
       "    <tr>\n",
       "      <th>0</th>\n",
       "      <td>34646193892</td>\n",
       "      <td>Rodrigo Araujo Cardoso</td>\n",
       "    </tr>\n",
       "    <tr>\n",
       "      <th>1</th>\n",
       "      <td>44434353608</td>\n",
       "      <td>Melissa Carvalho Cunha</td>\n",
       "    </tr>\n",
       "  </tbody>\n",
       "</table>\n",
       "</div>"
      ],
      "text/plain": [
       "           CPF                    Nome\n",
       "0  34646193892  Rodrigo Araujo Cardoso\n",
       "1  44434353608  Melissa Carvalho Cunha"
      ]
     },
     "execution_count": 60,
     "metadata": {},
     "output_type": "execute_result"
    }
   ],
   "source": [
    "query9 = \"\"\"\n",
    "        SELECT CONSULTOR.CPF, NOMECON as Nome\n",
    "        FROM CONSULTOR\n",
    "                 INNER JOIN VIAGEM\n",
    "                            ON CONSULTOR.CPF = VIAGEM.CPF\n",
    "                 LEFT JOIN EQUIPE\n",
    "                           ON VIAGEM.SIGLA = EQUIPE.SIGLA AND CONSULTOR.CPF = EQUIPE.CPF\n",
    "        WHERE EQUIPE.SIGLA IS NULL\n",
    "        \"\"\"\n",
    "df = pd.read_sql_query(query9, conn)\n",
    "df"
   ]
  },
  {
   "cell_type": "markdown",
   "metadata": {
    "id": "gCY4oJPhKkcN"
   },
   "source": [
    "## 10. Que consultores (CPF e nome) não estão em nenhuma equipe de projeto que tenha iniciado em 2019?\n"
   ]
  },
  {
   "cell_type": "code",
   "execution_count": 61,
   "metadata": {
    "id": "syPpEG84Klbv",
    "scrolled": true
   },
   "outputs": [
    {
     "data": {
      "text/html": [
       "<div>\n",
       "<style scoped>\n",
       "    .dataframe tbody tr th:only-of-type {\n",
       "        vertical-align: middle;\n",
       "    }\n",
       "\n",
       "    .dataframe tbody tr th {\n",
       "        vertical-align: top;\n",
       "    }\n",
       "\n",
       "    .dataframe thead th {\n",
       "        text-align: right;\n",
       "    }\n",
       "</style>\n",
       "<table border=\"1\" class=\"dataframe\">\n",
       "  <thead>\n",
       "    <tr style=\"text-align: right;\">\n",
       "      <th></th>\n",
       "      <th>CPF</th>\n",
       "      <th>Nome</th>\n",
       "    </tr>\n",
       "  </thead>\n",
       "  <tbody>\n",
       "    <tr>\n",
       "      <th>0</th>\n",
       "      <td>3074973994</td>\n",
       "      <td>Julieta Maciel Sousa</td>\n",
       "    </tr>\n",
       "    <tr>\n",
       "      <th>1</th>\n",
       "      <td>13414263351</td>\n",
       "      <td>Samuel Araujo Azevedo</td>\n",
       "    </tr>\n",
       "    <tr>\n",
       "      <th>2</th>\n",
       "      <td>17787063122</td>\n",
       "      <td>Larissa Fernandes Araujo</td>\n",
       "    </tr>\n",
       "    <tr>\n",
       "      <th>3</th>\n",
       "      <td>29762035631</td>\n",
       "      <td>Caio Dias Ribeiro</td>\n",
       "    </tr>\n",
       "    <tr>\n",
       "      <th>4</th>\n",
       "      <td>31266012516</td>\n",
       "      <td>Leonor Goncalves Rocha</td>\n",
       "    </tr>\n",
       "    <tr>\n",
       "      <th>5</th>\n",
       "      <td>34646193892</td>\n",
       "      <td>Rodrigo Araujo Cardoso</td>\n",
       "    </tr>\n",
       "    <tr>\n",
       "      <th>6</th>\n",
       "      <td>62465487841</td>\n",
       "      <td>Lucas Fernandes Costa</td>\n",
       "    </tr>\n",
       "    <tr>\n",
       "      <th>7</th>\n",
       "      <td>85726311353</td>\n",
       "      <td>Brenda Oliveira Goncalves</td>\n",
       "    </tr>\n",
       "  </tbody>\n",
       "</table>\n",
       "</div>"
      ],
      "text/plain": [
       "           CPF                       Nome\n",
       "0   3074973994       Julieta Maciel Sousa\n",
       "1  13414263351      Samuel Araujo Azevedo\n",
       "2  17787063122   Larissa Fernandes Araujo\n",
       "3  29762035631          Caio Dias Ribeiro\n",
       "4  31266012516     Leonor Goncalves Rocha\n",
       "5  34646193892     Rodrigo Araujo Cardoso\n",
       "6  62465487841      Lucas Fernandes Costa\n",
       "7  85726311353  Brenda Oliveira Goncalves"
      ]
     },
     "execution_count": 61,
     "metadata": {},
     "output_type": "execute_result"
    }
   ],
   "source": [
    "query10 = \"\"\"\n",
    "        SELECT CONSULTOR.CPF, NOMECON as Nome\n",
    "        FROM CONSULTOR\n",
    "                 LEFT JOIN\n",
    "             (\n",
    "                 SELECT EQUIPE.CPF\n",
    "                 FROM EQUIPE\n",
    "                          INNER JOIN PROJETO\n",
    "                                     ON EQUIPE.SIGLA = PROJETO.SIGLA AND PROJETO.DATAINICIO LIKE \"2019%\"\n",
    "             ) E ON CONSULTOR.CPF = E.CPF\n",
    "        WHERE E.CPF IS NULL\n",
    "        GROUP BY CONSULTOR.CPF\n",
    "        \"\"\"\n",
    "df = pd.read_sql_query(query10, conn)\n",
    "df"
   ]
  }
 ],
 "metadata": {
  "colab": {
   "name": "Atividade_avaliativa_SQL.ipynb",
   "provenance": []
  },
  "kernelspec": {
   "display_name": "Python 3",
   "language": "python",
   "name": "python3"
  },
  "language_info": {
   "codemirror_mode": {
    "name": "ipython",
    "version": 3
   },
   "file_extension": ".py",
   "mimetype": "text/x-python",
   "name": "python",
   "nbconvert_exporter": "python",
   "pygments_lexer": "ipython3",
   "version": "3.8.2"
  }
 },
 "nbformat": 4,
 "nbformat_minor": 1
}
