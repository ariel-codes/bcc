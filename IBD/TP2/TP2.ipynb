{
 "cells": [
  {
   "cell_type": "code",
   "execution_count": 2,
   "id": "fiscal-interpretation",
   "metadata": {},
   "outputs": [],
   "source": [
    "# Baixa e extrai os arquivos do Portal da Transparência\n",
    "import requests, zipfile, io, pathlib\n",
    "\n",
    "def download_set(name):\n",
    "    for month in range(1, 13):\n",
    "        path = f'./dataset/{name}/{month}'\n",
    "        pathlib.Path(path).mkdir(parents=True, exist_ok=True)\n",
    "        req = requests.get(f'http://transparencia.gov.br/download-de-dados/{name}/2020{month:02}', stream=True)\n",
    "        file = zipfile.ZipFile(io.BytesIO(req.content))\n",
    "        file.extractall(path)\n",
    "\n",
    "download_set('compras')\n",
    "download_set('licitacoes')"
   ]
  },
  {
   "cell_type": "code",
   "execution_count": 118,
   "id": "architectural-discrimination",
   "metadata": {},
   "outputs": [],
   "source": [
    "# Setup do banco de dados\n",
    "import sqlite3, glob, csv\n",
    "\n",
    "db = sqlite3.connect('DB.sqlite')\n",
    "with open('schema.sql', 'r') as schema:\n",
    "    db.executescript(schema.read())\n",
    "\n",
    "def insert_table(data, name, *headers):\n",
    "    \"\"\"Insere todos os valores dos headers em uma tabela\"\"\"\n",
    "    db.executemany(f\"INSERT INTO {name} VALUES ({','.join('?'*len(headers))}) ON CONFLICT DO NOTHING;\", [tuple(r[key] for key in headers) for r in data])\n",
    "\n",
    "def convert_col_real(table, col):\n",
    "    db.execute(f\"UPDATE {table} SET {col} = CAST(REPLACE({col}, ',', '.') AS REAL)\")\n",
    "\n",
    "def read_all_csv(pattern):\n",
    "    for filename in glob.iglob(f\"dataset/licitacoes/**/*_{pattern}.csv\"):\n",
    "        with open(filename, mode='r', encoding='iso-8859-1', newline='') as file:\n",
    "            yield list(csv.DictReader(file, quotechar='\"', delimiter=';'))\n",
    "\n",
    "for r in read_all_csv('Licitaç╞o'):\n",
    "    insert_table(r, 'unidade_gestora', 'Código UG', 'Nome UG')\n",
    "    insert_table(r, 'modalidade_compra', 'Código Modalidade Compra', 'Modalidade Compra')\n",
    "    insert_table(r, 'orgao_superior', 'Código Órgão Superior', 'Nome Órgão Superior')\n",
    "    insert_table(r, 'orgao_subordinado', 'Código Órgão', 'Nome Órgão', 'Código Órgão Superior')\n",
    "    insert_table(r, 'licitacao', 'Número Licitação', 'Código Modalidade Compra', 'Número Processo', 'Objeto', 'Situação Licitação', 'Código UG', 'Código Órgão', 'Município', 'Data Resultado Compra', 'Data Abertura', 'Valor Licitação')\n",
    "convert_col_real('licitacao', 'valor')\n",
    "\n",
    "for r in read_all_csv('ParticipantesLicitaç╞o'):\n",
    "    insert_table(r, 'pessoa_juridica', 'CNPJ Participante', 'Nome Participante')\n",
    "    insert_table(r, 'participante_licitacao', 'Número Licitação', 'Código Modalidade Compra', 'Número Processo', 'Código UG', 'Código Órgão', 'Descrição Item Compra', 'CNPJ Participante', 'Flag Vencedor')\n",
    "\n",
    "for r in read_all_csv('ItemLicitaç╞o'):\n",
    "    insert_table(r, 'pessoa_juridica', 'CNPJ Vencedor', 'Nome Vencedor')\n",
    "    insert_table(r, 'item_licitacao', 'Número Licitação', 'Código Modalidade Compra', 'Número Processo', 'Código UG', 'Código Órgão', 'Descrição', 'CNPJ Vencedor', 'Quantidade Item', 'Valor Item')\n",
    "convert_col_real('item_licitacao', 'valor_item')\n",
    "    \n",
    "db.commit()\n",
    "db.close()"
   ]
  }
 ],
 "metadata": {
  "kernelspec": {
   "display_name": "Python 3",
   "language": "python",
   "name": "python3"
  },
  "language_info": {
   "codemirror_mode": {
    "name": "ipython",
    "version": 3
   },
   "file_extension": ".py",
   "mimetype": "text/x-python",
   "name": "python",
   "nbconvert_exporter": "python",
   "pygments_lexer": "ipython3",
   "version": "3.6.9"
  }
 },
 "nbformat": 4,
 "nbformat_minor": 5
}
